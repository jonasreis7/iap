{
 "cells": [
  {
   "cell_type": "markdown",
   "metadata": {},
   "source": [
    "# 03 01 Exercícios Pandas\n",
    "---"
   ]
  },
  {
   "cell_type": "code",
   "execution_count": 2,
   "metadata": {},
   "outputs": [],
   "source": [
    "# faça seus imports aqui \n",
    "import pandas as pd\n",
    "import numpy as np\n",
    "import matplotlib.pyplot as plt\n",
    "import seaborn as sns"
   ]
  },
  {
   "cell_type": "markdown",
   "metadata": {},
   "source": [
    "## EX01\n",
    "\n",
    "Criação e métodos de séries."
   ]
  },
  {
   "cell_type": "code",
   "execution_count": 3,
   "metadata": {},
   "outputs": [],
   "source": [
    "temperaturas = [15.4, 18.0, 22.5, 20.0, 20.3, 25.0]"
   ]
  },
  {
   "cell_type": "markdown",
   "metadata": {},
   "source": [
    "__A.__ Crie uma série com os dados da lista fornecida. Utilize pd.Series e atribua a serie à variável s_temperaturas"
   ]
  },
  {
   "cell_type": "code",
   "execution_count": 4,
   "metadata": {},
   "outputs": [],
   "source": [
    "s_temperaturas = pd.Series(temperaturas)"
   ]
  },
  {
   "cell_type": "markdown",
   "metadata": {},
   "source": [
    "__B.__ Imprima o tipo do objeto s_temperaturas"
   ]
  },
  {
   "cell_type": "code",
   "execution_count": 5,
   "metadata": {},
   "outputs": [
    {
     "name": "stdout",
     "output_type": "stream",
     "text": [
      "<class 'pandas.core.series.Series'>\n"
     ]
    }
   ],
   "source": [
    "print(type(s_temperaturas))"
   ]
  },
  {
   "cell_type": "markdown",
   "metadata": {},
   "source": [
    "__C.__ Imprima o objeto s_temperaturas"
   ]
  },
  {
   "cell_type": "code",
   "execution_count": 6,
   "metadata": {},
   "outputs": [
    {
     "name": "stdout",
     "output_type": "stream",
     "text": [
      "0    15.4\n",
      "1    18.0\n",
      "2    22.5\n",
      "3    20.0\n",
      "4    20.3\n",
      "5    25.0\n",
      "dtype: float64\n"
     ]
    }
   ],
   "source": [
    "print(s_temperaturas)"
   ]
  },
  {
   "cell_type": "markdown",
   "metadata": {},
   "source": [
    "__D.__ Imprima o numéro de linhas do objeto"
   ]
  },
  {
   "cell_type": "code",
   "execution_count": 7,
   "metadata": {},
   "outputs": [
    {
     "name": "stdout",
     "output_type": "stream",
     "text": [
      "6\n"
     ]
    }
   ],
   "source": [
    "print(s_temperaturas.shape[0])"
   ]
  },
  {
   "cell_type": "markdown",
   "metadata": {},
   "source": [
    "__E.__ imprima as 2 primeiras linhas"
   ]
  },
  {
   "cell_type": "code",
   "execution_count": 8,
   "metadata": {
    "scrolled": true
   },
   "outputs": [
    {
     "name": "stdout",
     "output_type": "stream",
     "text": [
      "0    15.4\n",
      "1    18.0\n",
      "dtype: float64\n"
     ]
    }
   ],
   "source": [
    "print(s_temperaturas.head(2))"
   ]
  },
  {
   "cell_type": "markdown",
   "metadata": {},
   "source": [
    "__F__. imprima as 2 últimas linhas"
   ]
  },
  {
   "cell_type": "code",
   "execution_count": 9,
   "metadata": {},
   "outputs": [
    {
     "name": "stdout",
     "output_type": "stream",
     "text": [
      "4    20.3\n",
      "5    25.0\n",
      "dtype: float64\n"
     ]
    }
   ],
   "source": [
    "print(s_temperaturas.tail(2))"
   ]
  },
  {
   "cell_type": "markdown",
   "metadata": {},
   "source": [
    "__G__. imprima o maior valor"
   ]
  },
  {
   "cell_type": "code",
   "execution_count": 10,
   "metadata": {
    "scrolled": true
   },
   "outputs": [
    {
     "name": "stdout",
     "output_type": "stream",
     "text": [
      "25.0\n"
     ]
    }
   ],
   "source": [
    "print(s_temperaturas.max())"
   ]
  },
  {
   "cell_type": "markdown",
   "metadata": {},
   "source": [
    "__H__. imprima o menor valor"
   ]
  },
  {
   "cell_type": "code",
   "execution_count": 11,
   "metadata": {},
   "outputs": [
    {
     "name": "stdout",
     "output_type": "stream",
     "text": [
      "15.4\n"
     ]
    }
   ],
   "source": [
    "print(s_temperaturas.min())"
   ]
  },
  {
   "cell_type": "markdown",
   "metadata": {},
   "source": [
    "__I__. imprima o menor valor"
   ]
  },
  {
   "cell_type": "code",
   "execution_count": 12,
   "metadata": {},
   "outputs": [
    {
     "name": "stdout",
     "output_type": "stream",
     "text": [
      "15.4\n"
     ]
    }
   ],
   "source": [
    "print(s_temperaturas.min())"
   ]
  },
  {
   "cell_type": "markdown",
   "metadata": {},
   "source": [
    "__J__. utilize o método describe para visualizar estatísticas básicas da série"
   ]
  },
  {
   "cell_type": "code",
   "execution_count": 13,
   "metadata": {},
   "outputs": [
    {
     "data": {
      "text/plain": [
       "count     6.0000\n",
       "mean     20.2000\n",
       "std       3.3544\n",
       "min      15.4000\n",
       "25%      18.5000\n",
       "50%      20.1500\n",
       "75%      21.9500\n",
       "max      25.0000\n",
       "dtype: float64"
      ]
     },
     "execution_count": 13,
     "metadata": {},
     "output_type": "execute_result"
    }
   ],
   "source": [
    "s_temperaturas.describe()"
   ]
  },
  {
   "cell_type": "markdown",
   "metadata": {},
   "source": [
    "## EX02\n",
    "\n",
    "Filtros e expressões em séries."
   ]
  },
  {
   "cell_type": "markdown",
   "metadata": {},
   "source": [
    "__A.__ Crie uma série com as variáveis temperatura e indice definidas abaixo"
   ]
  },
  {
   "cell_type": "code",
   "execution_count": 14,
   "metadata": {
    "scrolled": true
   },
   "outputs": [
    {
     "data": {
      "text/plain": [
       "2017-05-03    15.4\n",
       "2017-05-04    18.0\n",
       "2017-05-04    22.5\n",
       "2017-05-05    20.0\n",
       "2017-05-06    20.3\n",
       "2017-05-07    25.0\n",
       "dtype: float64"
      ]
     },
     "execution_count": 14,
     "metadata": {},
     "output_type": "execute_result"
    }
   ],
   "source": [
    "temperaturas = [15.4, 18.0, 22.5, 20.0, 20.3, 25.0]\n",
    "indice = pd.to_datetime(['2017-05-03','2017-05-04','2017-05-04','2017-05-05','2017-05-06','2017-05-07'])\n",
    "\n",
    "s_temperaturas = pd.Series(temperaturas, index=indice)\n",
    "s_temperaturas"
   ]
  },
  {
   "cell_type": "markdown",
   "metadata": {},
   "source": [
    "__B.__ Filtre os registros pelo índice 2017-05-04"
   ]
  },
  {
   "cell_type": "code",
   "execution_count": 15,
   "metadata": {
    "scrolled": false
   },
   "outputs": [
    {
     "data": {
      "text/plain": [
       "2017-05-04    18.0\n",
       "2017-05-04    22.5\n",
       "dtype: float64"
      ]
     },
     "execution_count": 15,
     "metadata": {},
     "output_type": "execute_result"
    }
   ],
   "source": [
    "s_temperaturas.loc['2017-05-04']"
   ]
  },
  {
   "cell_type": "markdown",
   "metadata": {},
   "source": [
    "__C.__ Filtre os registros pelo intervalo 2017-05-04 a 2017-05-06"
   ]
  },
  {
   "cell_type": "code",
   "execution_count": 16,
   "metadata": {
    "scrolled": false
   },
   "outputs": [
    {
     "data": {
      "text/plain": [
       "2017-05-04    18.0\n",
       "2017-05-04    22.5\n",
       "2017-05-05    20.0\n",
       "2017-05-06    20.3\n",
       "dtype: float64"
      ]
     },
     "execution_count": 16,
     "metadata": {},
     "output_type": "execute_result"
    }
   ],
   "source": [
    "s_temperaturas.loc['2017-05-04':'2017-05-06']"
   ]
  },
  {
   "cell_type": "markdown",
   "metadata": {},
   "source": [
    "__D.__ Filtre os registros das posições 1 a 3"
   ]
  },
  {
   "cell_type": "code",
   "execution_count": 17,
   "metadata": {
    "scrolled": true
   },
   "outputs": [
    {
     "data": {
      "text/plain": [
       "2017-05-03    15.4\n",
       "2017-05-04    18.0\n",
       "2017-05-04    22.5\n",
       "dtype: float64"
      ]
     },
     "execution_count": 17,
     "metadata": {},
     "output_type": "execute_result"
    }
   ],
   "source": [
    "s_temperaturas.iloc[0:3]"
   ]
  },
  {
   "cell_type": "markdown",
   "metadata": {},
   "source": [
    "__E.__ Filtre os registros com temperatura maior que 20"
   ]
  },
  {
   "cell_type": "code",
   "execution_count": 18,
   "metadata": {
    "scrolled": false
   },
   "outputs": [
    {
     "data": {
      "text/plain": [
       "2017-05-04    22.5\n",
       "2017-05-06    20.3\n",
       "2017-05-07    25.0\n",
       "dtype: float64"
      ]
     },
     "execution_count": 18,
     "metadata": {},
     "output_type": "execute_result"
    }
   ],
   "source": [
    "s_temperaturas[ s_temperaturas > 20 ]"
   ]
  },
  {
   "cell_type": "markdown",
   "metadata": {},
   "source": [
    "## EX03\n",
    "\n",
    "Criação e características de DataFrames."
   ]
  },
  {
   "cell_type": "markdown",
   "metadata": {},
   "source": [
    "__A.__ Crie um dataframe utilizando a lista de tuplas abaixo."
   ]
  },
  {
   "cell_type": "code",
   "execution_count": 19,
   "metadata": {
    "scrolled": false
   },
   "outputs": [
    {
     "data": {
      "text/html": [
       "<div>\n",
       "<style scoped>\n",
       "    .dataframe tbody tr th:only-of-type {\n",
       "        vertical-align: middle;\n",
       "    }\n",
       "\n",
       "    .dataframe tbody tr th {\n",
       "        vertical-align: top;\n",
       "    }\n",
       "\n",
       "    .dataframe thead th {\n",
       "        text-align: right;\n",
       "    }\n",
       "</style>\n",
       "<table border=\"1\" class=\"dataframe\">\n",
       "  <thead>\n",
       "    <tr style=\"text-align: right;\">\n",
       "      <th></th>\n",
       "      <th>Espécie</th>\n",
       "      <th>Idade</th>\n",
       "      <th>Visitas</th>\n",
       "      <th>Prioridade</th>\n",
       "    </tr>\n",
       "  </thead>\n",
       "  <tbody>\n",
       "    <tr>\n",
       "      <th>0</th>\n",
       "      <td>Gato</td>\n",
       "      <td>6.0</td>\n",
       "      <td>12</td>\n",
       "      <td>Sim</td>\n",
       "    </tr>\n",
       "    <tr>\n",
       "      <th>1</th>\n",
       "      <td>Gato</td>\n",
       "      <td>3.0</td>\n",
       "      <td>23</td>\n",
       "      <td>Sim</td>\n",
       "    </tr>\n",
       "    <tr>\n",
       "      <th>2</th>\n",
       "      <td>Cachorro</td>\n",
       "      <td>10.0</td>\n",
       "      <td>14</td>\n",
       "      <td>Sim</td>\n",
       "    </tr>\n",
       "    <tr>\n",
       "      <th>3</th>\n",
       "      <td>Ramster</td>\n",
       "      <td>4.0</td>\n",
       "      <td>5</td>\n",
       "      <td>Não</td>\n",
       "    </tr>\n",
       "    <tr>\n",
       "      <th>4</th>\n",
       "      <td>Tartaruga</td>\n",
       "      <td>10.0</td>\n",
       "      <td>11</td>\n",
       "      <td>Sim</td>\n",
       "    </tr>\n",
       "  </tbody>\n",
       "</table>\n",
       "</div>"
      ],
      "text/plain": [
       "     Espécie  Idade  Visitas Prioridade\n",
       "0       Gato    6.0       12        Sim\n",
       "1       Gato    3.0       23        Sim\n",
       "2   Cachorro   10.0       14        Sim\n",
       "3    Ramster    4.0        5        Não\n",
       "4  Tartaruga   10.0       11        Sim"
      ]
     },
     "execution_count": 19,
     "metadata": {},
     "output_type": "execute_result"
    }
   ],
   "source": [
    "# utilize esta variável para o nome das colunas\n",
    "nomes_colunas = ['Espécie', 'Idade', 'Visitas', 'Prioridade']\n",
    "clinica_veterinaria = [\n",
    "    ('Gato', 6.0, 12, 'Sim'),\n",
    "    ('Gato', 3.0, 23, 'Sim'),\n",
    "    ('Cachorro', 10.0, 14, 'Sim'),\n",
    "    ('Ramster', 4.0, 5, 'Não'),\n",
    "    ('Tartaruga', 10.0, 11, 'Sim'),\n",
    "    ('Tartaruga', 3.0, 2, 'Sim'),\n",
    "    ('Gato', 12.0, 3, 'Não'),\n",
    "    ('Ramster', 11.0, 26, 'Não'),\n",
    "    ('Gato', 5.5, 29, 'Não'),\n",
    "    ('Cachorro', 2.0, 28, 'Sim'),\n",
    "    ('Coelho', 5.5, 1, 'Sim'),\n",
    "    ('Tartaruga', 4.0, 21, 'Não'),\n",
    "    ('Ramster', 1.0, 28, 'Sim'),\n",
    "    ('Tartaruga', 3.5, 18, 'Não'),\n",
    "    ('Ramster', 3.0, 20, 'Não'),\n",
    "    ('Gato', 2.0, 16, 'Não'),\n",
    "    ('Tartaruga', 10.5, 29, 'Não'),\n",
    "    ('Cachorro', 10.5, 26, 'Sim'),\n",
    "    ('Coelho', 10.0, 26, 'Sim'),\n",
    "    ('Ramster', 9.5, 2, 'Não')\n",
    "]\n",
    "\n",
    "# crie o dataframe e atribua à variável 'df_clinica_veterinaria'\n",
    "df_clinica_veterinaria = pd.DataFrame(clinica_veterinaria, columns=nomes_colunas)\n",
    "\n",
    "# exiba as primeiras 5 linhas\n",
    "df_clinica_veterinaria.head()"
   ]
  },
  {
   "cell_type": "markdown",
   "metadata": {},
   "source": [
    "__B.__ Crie uma nova coluna com o resultado do número de visitas dividido pela idade. O nome da colunas deve ser \"Visitas/Idade\""
   ]
  },
  {
   "cell_type": "code",
   "execution_count": 21,
   "metadata": {},
   "outputs": [
    {
     "data": {
      "text/html": [
       "<div>\n",
       "<style scoped>\n",
       "    .dataframe tbody tr th:only-of-type {\n",
       "        vertical-align: middle;\n",
       "    }\n",
       "\n",
       "    .dataframe tbody tr th {\n",
       "        vertical-align: top;\n",
       "    }\n",
       "\n",
       "    .dataframe thead th {\n",
       "        text-align: right;\n",
       "    }\n",
       "</style>\n",
       "<table border=\"1\" class=\"dataframe\">\n",
       "  <thead>\n",
       "    <tr style=\"text-align: right;\">\n",
       "      <th></th>\n",
       "      <th>Espécie</th>\n",
       "      <th>Idade</th>\n",
       "      <th>Visitas</th>\n",
       "      <th>Prioridade</th>\n",
       "      <th>Visitas/Idade</th>\n",
       "    </tr>\n",
       "  </thead>\n",
       "  <tbody>\n",
       "    <tr>\n",
       "      <th>0</th>\n",
       "      <td>Gato</td>\n",
       "      <td>6.0</td>\n",
       "      <td>12</td>\n",
       "      <td>Sim</td>\n",
       "      <td>2.000000</td>\n",
       "    </tr>\n",
       "    <tr>\n",
       "      <th>1</th>\n",
       "      <td>Gato</td>\n",
       "      <td>3.0</td>\n",
       "      <td>23</td>\n",
       "      <td>Sim</td>\n",
       "      <td>7.666667</td>\n",
       "    </tr>\n",
       "    <tr>\n",
       "      <th>2</th>\n",
       "      <td>Cachorro</td>\n",
       "      <td>10.0</td>\n",
       "      <td>14</td>\n",
       "      <td>Sim</td>\n",
       "      <td>1.400000</td>\n",
       "    </tr>\n",
       "    <tr>\n",
       "      <th>3</th>\n",
       "      <td>Ramster</td>\n",
       "      <td>4.0</td>\n",
       "      <td>5</td>\n",
       "      <td>Não</td>\n",
       "      <td>1.250000</td>\n",
       "    </tr>\n",
       "    <tr>\n",
       "      <th>4</th>\n",
       "      <td>Tartaruga</td>\n",
       "      <td>10.0</td>\n",
       "      <td>11</td>\n",
       "      <td>Sim</td>\n",
       "      <td>1.100000</td>\n",
       "    </tr>\n",
       "  </tbody>\n",
       "</table>\n",
       "</div>"
      ],
      "text/plain": [
       "     Espécie  Idade  Visitas Prioridade  Visitas/Idade\n",
       "0       Gato    6.0       12        Sim       2.000000\n",
       "1       Gato    3.0       23        Sim       7.666667\n",
       "2   Cachorro   10.0       14        Sim       1.400000\n",
       "3    Ramster    4.0        5        Não       1.250000\n",
       "4  Tartaruga   10.0       11        Sim       1.100000"
      ]
     },
     "execution_count": 21,
     "metadata": {},
     "output_type": "execute_result"
    }
   ],
   "source": [
    "df_clinica_veterinaria['Visitas/Idade'] = df_clinica_veterinaria['Visitas'] / df_clinica_veterinaria['Idade']\n",
    "\n",
    "df_clinica_veterinaria.head()"
   ]
  },
  {
   "cell_type": "markdown",
   "metadata": {},
   "source": [
    "__C.__ Ordene o Dataframe pela nova coluna \"Visitas/Idade\" em ordem decrescente"
   ]
  },
  {
   "cell_type": "code",
   "execution_count": 22,
   "metadata": {},
   "outputs": [
    {
     "data": {
      "text/html": [
       "<div>\n",
       "<style scoped>\n",
       "    .dataframe tbody tr th:only-of-type {\n",
       "        vertical-align: middle;\n",
       "    }\n",
       "\n",
       "    .dataframe tbody tr th {\n",
       "        vertical-align: top;\n",
       "    }\n",
       "\n",
       "    .dataframe thead th {\n",
       "        text-align: right;\n",
       "    }\n",
       "</style>\n",
       "<table border=\"1\" class=\"dataframe\">\n",
       "  <thead>\n",
       "    <tr style=\"text-align: right;\">\n",
       "      <th></th>\n",
       "      <th>Espécie</th>\n",
       "      <th>Idade</th>\n",
       "      <th>Visitas</th>\n",
       "      <th>Prioridade</th>\n",
       "      <th>Visitas/Idade</th>\n",
       "    </tr>\n",
       "  </thead>\n",
       "  <tbody>\n",
       "    <tr>\n",
       "      <th>12</th>\n",
       "      <td>Ramster</td>\n",
       "      <td>1.0</td>\n",
       "      <td>28</td>\n",
       "      <td>Sim</td>\n",
       "      <td>28.000000</td>\n",
       "    </tr>\n",
       "    <tr>\n",
       "      <th>9</th>\n",
       "      <td>Cachorro</td>\n",
       "      <td>2.0</td>\n",
       "      <td>28</td>\n",
       "      <td>Sim</td>\n",
       "      <td>14.000000</td>\n",
       "    </tr>\n",
       "    <tr>\n",
       "      <th>15</th>\n",
       "      <td>Gato</td>\n",
       "      <td>2.0</td>\n",
       "      <td>16</td>\n",
       "      <td>Não</td>\n",
       "      <td>8.000000</td>\n",
       "    </tr>\n",
       "    <tr>\n",
       "      <th>1</th>\n",
       "      <td>Gato</td>\n",
       "      <td>3.0</td>\n",
       "      <td>23</td>\n",
       "      <td>Sim</td>\n",
       "      <td>7.666667</td>\n",
       "    </tr>\n",
       "    <tr>\n",
       "      <th>14</th>\n",
       "      <td>Ramster</td>\n",
       "      <td>3.0</td>\n",
       "      <td>20</td>\n",
       "      <td>Não</td>\n",
       "      <td>6.666667</td>\n",
       "    </tr>\n",
       "  </tbody>\n",
       "</table>\n",
       "</div>"
      ],
      "text/plain": [
       "     Espécie  Idade  Visitas Prioridade  Visitas/Idade\n",
       "12   Ramster    1.0       28        Sim      28.000000\n",
       "9   Cachorro    2.0       28        Sim      14.000000\n",
       "15      Gato    2.0       16        Não       8.000000\n",
       "1       Gato    3.0       23        Sim       7.666667\n",
       "14   Ramster    3.0       20        Não       6.666667"
      ]
     },
     "execution_count": 22,
     "metadata": {},
     "output_type": "execute_result"
    }
   ],
   "source": [
    "df_clinica_veterinaria.sort_values('Visitas/Idade', ascending=False).head()"
   ]
  },
  {
   "cell_type": "markdown",
   "metadata": {},
   "source": [
    "__D.__ Selecione todos os registros com cachorros"
   ]
  },
  {
   "cell_type": "code",
   "execution_count": 23,
   "metadata": {},
   "outputs": [
    {
     "data": {
      "text/html": [
       "<div>\n",
       "<style scoped>\n",
       "    .dataframe tbody tr th:only-of-type {\n",
       "        vertical-align: middle;\n",
       "    }\n",
       "\n",
       "    .dataframe tbody tr th {\n",
       "        vertical-align: top;\n",
       "    }\n",
       "\n",
       "    .dataframe thead th {\n",
       "        text-align: right;\n",
       "    }\n",
       "</style>\n",
       "<table border=\"1\" class=\"dataframe\">\n",
       "  <thead>\n",
       "    <tr style=\"text-align: right;\">\n",
       "      <th></th>\n",
       "      <th>Espécie</th>\n",
       "      <th>Idade</th>\n",
       "      <th>Visitas</th>\n",
       "      <th>Prioridade</th>\n",
       "      <th>Visitas/Idade</th>\n",
       "    </tr>\n",
       "  </thead>\n",
       "  <tbody>\n",
       "    <tr>\n",
       "      <th>2</th>\n",
       "      <td>Cachorro</td>\n",
       "      <td>10.0</td>\n",
       "      <td>14</td>\n",
       "      <td>Sim</td>\n",
       "      <td>1.40000</td>\n",
       "    </tr>\n",
       "    <tr>\n",
       "      <th>9</th>\n",
       "      <td>Cachorro</td>\n",
       "      <td>2.0</td>\n",
       "      <td>28</td>\n",
       "      <td>Sim</td>\n",
       "      <td>14.00000</td>\n",
       "    </tr>\n",
       "    <tr>\n",
       "      <th>17</th>\n",
       "      <td>Cachorro</td>\n",
       "      <td>10.5</td>\n",
       "      <td>26</td>\n",
       "      <td>Sim</td>\n",
       "      <td>2.47619</td>\n",
       "    </tr>\n",
       "  </tbody>\n",
       "</table>\n",
       "</div>"
      ],
      "text/plain": [
       "     Espécie  Idade  Visitas Prioridade  Visitas/Idade\n",
       "2   Cachorro   10.0       14        Sim        1.40000\n",
       "9   Cachorro    2.0       28        Sim       14.00000\n",
       "17  Cachorro   10.5       26        Sim        2.47619"
      ]
     },
     "execution_count": 23,
     "metadata": {},
     "output_type": "execute_result"
    }
   ],
   "source": [
    "expressao = (df_clinica_veterinaria['Espécie'] == 'Cachorro')\n",
    "df_clinica_veterinaria.loc[expressao]"
   ]
  },
  {
   "cell_type": "markdown",
   "metadata": {},
   "source": [
    "__E.__ Selecione todos os registros com gatos com idade acima de 4 anos"
   ]
  },
  {
   "cell_type": "code",
   "execution_count": 24,
   "metadata": {
    "scrolled": false
   },
   "outputs": [
    {
     "data": {
      "text/html": [
       "<div>\n",
       "<style scoped>\n",
       "    .dataframe tbody tr th:only-of-type {\n",
       "        vertical-align: middle;\n",
       "    }\n",
       "\n",
       "    .dataframe tbody tr th {\n",
       "        vertical-align: top;\n",
       "    }\n",
       "\n",
       "    .dataframe thead th {\n",
       "        text-align: right;\n",
       "    }\n",
       "</style>\n",
       "<table border=\"1\" class=\"dataframe\">\n",
       "  <thead>\n",
       "    <tr style=\"text-align: right;\">\n",
       "      <th></th>\n",
       "      <th>Espécie</th>\n",
       "      <th>Idade</th>\n",
       "      <th>Visitas</th>\n",
       "      <th>Prioridade</th>\n",
       "      <th>Visitas/Idade</th>\n",
       "    </tr>\n",
       "  </thead>\n",
       "  <tbody>\n",
       "    <tr>\n",
       "      <th>0</th>\n",
       "      <td>Gato</td>\n",
       "      <td>6.0</td>\n",
       "      <td>12</td>\n",
       "      <td>Sim</td>\n",
       "      <td>2.000000</td>\n",
       "    </tr>\n",
       "    <tr>\n",
       "      <th>6</th>\n",
       "      <td>Gato</td>\n",
       "      <td>12.0</td>\n",
       "      <td>3</td>\n",
       "      <td>Não</td>\n",
       "      <td>0.250000</td>\n",
       "    </tr>\n",
       "    <tr>\n",
       "      <th>8</th>\n",
       "      <td>Gato</td>\n",
       "      <td>5.5</td>\n",
       "      <td>29</td>\n",
       "      <td>Não</td>\n",
       "      <td>5.272727</td>\n",
       "    </tr>\n",
       "  </tbody>\n",
       "</table>\n",
       "</div>"
      ],
      "text/plain": [
       "  Espécie  Idade  Visitas Prioridade  Visitas/Idade\n",
       "0    Gato    6.0       12        Sim       2.000000\n",
       "6    Gato   12.0        3        Não       0.250000\n",
       "8    Gato    5.5       29        Não       5.272727"
      ]
     },
     "execution_count": 24,
     "metadata": {},
     "output_type": "execute_result"
    }
   ],
   "source": [
    "expressao = (df_clinica_veterinaria['Espécie'] == 'Gato') & (df_clinica_veterinaria['Idade']  > 4)\n",
    "df_clinica_veterinaria.loc[expressao]"
   ]
  },
  {
   "cell_type": "markdown",
   "metadata": {},
   "source": [
    "__F.__ Qual o total de visitas registradas na clínica?"
   ]
  },
  {
   "cell_type": "code",
   "execution_count": 25,
   "metadata": {},
   "outputs": [
    {
     "data": {
      "text/plain": [
       "340"
      ]
     },
     "execution_count": 25,
     "metadata": {},
     "output_type": "execute_result"
    }
   ],
   "source": [
    "df_clinica_veterinaria['Visitas'].sum()"
   ]
  },
  {
   "cell_type": "markdown",
   "metadata": {
    "collapsed": true
   },
   "source": [
    "__G.__ Existe algum Ramster com prioridade?"
   ]
  },
  {
   "cell_type": "code",
   "execution_count": 26,
   "metadata": {},
   "outputs": [
    {
     "data": {
      "text/html": [
       "<div>\n",
       "<style scoped>\n",
       "    .dataframe tbody tr th:only-of-type {\n",
       "        vertical-align: middle;\n",
       "    }\n",
       "\n",
       "    .dataframe tbody tr th {\n",
       "        vertical-align: top;\n",
       "    }\n",
       "\n",
       "    .dataframe thead th {\n",
       "        text-align: right;\n",
       "    }\n",
       "</style>\n",
       "<table border=\"1\" class=\"dataframe\">\n",
       "  <thead>\n",
       "    <tr style=\"text-align: right;\">\n",
       "      <th></th>\n",
       "      <th>Espécie</th>\n",
       "      <th>Idade</th>\n",
       "      <th>Visitas</th>\n",
       "      <th>Prioridade</th>\n",
       "      <th>Visitas/Idade</th>\n",
       "    </tr>\n",
       "  </thead>\n",
       "  <tbody>\n",
       "    <tr>\n",
       "      <th>12</th>\n",
       "      <td>Ramster</td>\n",
       "      <td>1.0</td>\n",
       "      <td>28</td>\n",
       "      <td>Sim</td>\n",
       "      <td>28.0</td>\n",
       "    </tr>\n",
       "  </tbody>\n",
       "</table>\n",
       "</div>"
      ],
      "text/plain": [
       "    Espécie  Idade  Visitas Prioridade  Visitas/Idade\n",
       "12  Ramster    1.0       28        Sim           28.0"
      ]
     },
     "execution_count": 26,
     "metadata": {},
     "output_type": "execute_result"
    }
   ],
   "source": [
    "expressao = (df_clinica_veterinaria['Espécie'] == 'Ramster') & (df_clinica_veterinaria['Prioridade'] == 'Sim')\n",
    "df_clinica_veterinaria[expressao]"
   ]
  },
  {
   "cell_type": "markdown",
   "metadata": {},
   "source": [
    "__H.__ Qual a maior idade por espécie?"
   ]
  },
  {
   "cell_type": "code",
   "execution_count": 27,
   "metadata": {
    "scrolled": false
   },
   "outputs": [
    {
     "data": {
      "text/plain": [
       "Espécie\n",
       "Cachorro     10.5\n",
       "Coelho       10.0\n",
       "Gato         12.0\n",
       "Ramster      11.0\n",
       "Tartaruga    10.5\n",
       "Name: Idade, dtype: float64"
      ]
     },
     "execution_count": 27,
     "metadata": {},
     "output_type": "execute_result"
    }
   ],
   "source": [
    "df_clinica_veterinaria.groupby('Espécie')['Idade'].max()"
   ]
  },
  {
   "cell_type": "markdown",
   "metadata": {},
   "source": [
    "__I.__ Qual a média de idade por espécie?"
   ]
  },
  {
   "cell_type": "code",
   "execution_count": 28,
   "metadata": {
    "scrolled": false
   },
   "outputs": [
    {
     "data": {
      "text/plain": [
       "Espécie\n",
       "Cachorro     7.50\n",
       "Coelho       7.75\n",
       "Gato         5.70\n",
       "Ramster      5.70\n",
       "Tartaruga    6.20\n",
       "Name: Idade, dtype: float64"
      ]
     },
     "execution_count": 28,
     "metadata": {},
     "output_type": "execute_result"
    }
   ],
   "source": [
    "df_clinica_veterinaria.groupby('Espécie')['Idade'].mean()"
   ]
  },
  {
   "cell_type": "code",
   "execution_count": 30,
   "metadata": {},
   "outputs": [
    {
     "data": {
      "text/plain": [
       "[('Coelho', 8.5, 29, 'Sim'),\n",
       " ('Tartaruga', 6.5, 26, 'Não'),\n",
       " ('Coelho', 8.5, 25, 'Não'),\n",
       " ('Coelho', 3.0, 21, 'Sim'),\n",
       " ('Gato', 1.0, 24, 'Não'),\n",
       " ('Coelho', 9.5, 6, 'Não'),\n",
       " ('Tartaruga', 7.5, 29, 'Sim'),\n",
       " ('Coelho', 5.0, 2, 'Sim'),\n",
       " ('Tartaruga', 10.5, 2, 'Não'),\n",
       " ('Tartaruga', 9.5, 18, 'Sim'),\n",
       " ('Tartaruga', 10.5, 16, 'Sim'),\n",
       " ('Tartaruga', 6.5, 11, 'Sim'),\n",
       " ('Coelho', 9.0, 2, 'Não'),\n",
       " ('Coelho', 5.0, 27, 'Não'),\n",
       " ('Gato', 12.5, 27, 'Não'),\n",
       " ('Gato', 11.5, 6, 'Não'),\n",
       " ('Tartaruga', 7.5, 25, 'Não'),\n",
       " ('Gato', 3.0, 14, 'Não'),\n",
       " ('Gato', 3.5, 17, 'Não'),\n",
       " ('Tartaruga', 3.0, 25, 'Não')]"
      ]
     },
     "execution_count": 30,
     "metadata": {},
     "output_type": "execute_result"
    }
   ],
   "source": [
    "# Gerador de clientes para clínica veterinária\n",
    "\n",
    "sorteio_animais = ['Gato', 'Cachorro', 'Coelho', 'Ramster', 'Tartaruga']\n",
    "sorteio_idades = list(np.arange(0.5, 13.0, step=0.5))\n",
    "sorteio_visitas = list(np.arange(1, 30))\n",
    "sorteio_prioridade = ['Sim', 'Não']\n",
    "\n",
    "clinica_veterinaria = [(np.random.choice(sorteio_animais),\n",
    "                        np.random.choice(sorteio_idades),\n",
    "                        np.random.choice(sorteio_visitas),\n",
    "                        np.random.choice(sorteio_prioridade),\n",
    "                        ) for i in range(20)\n",
    "                        ]\n",
    "clinica_veterinaria"
   ]
  },
  {
   "cell_type": "markdown",
   "metadata": {},
   "source": [
    "## EX04\n",
    "\n",
    "Informações climáticas, com amostragem a cada hora para todos os dias do ano de 1965 em Brasília."
   ]
  },
  {
   "cell_type": "markdown",
   "metadata": {},
   "source": [
    "__A.__ Crie um DataFrame à partir do arquivo do arquivo CSV abaixo:\n",
    "\n",
    "```\n",
    "https://github.com/fernandosola/analisedados-python/raw/master/dados/clima_brasilia/BrasiliaTRY1962_05.csv\n",
    "```\n",
    "\n",
    "Colunas\n",
    "\n",
    "* TBS {C} = Temperatura de bulbo seco\n",
    "* U. R. {%} = Umidade relativa do ar\n",
    "* Densidade do ar {kg/m3}\n",
    "\n",
    "Problemas de encoding? \n",
    "UnicodeDecodeError?\n",
    "Teste alguns dos encodings informados no caderno de referÊncia de aula."
   ]
  },
  {
   "cell_type": "code",
   "execution_count": 32,
   "metadata": {
    "scrolled": true
   },
   "outputs": [
    {
     "data": {
      "text/html": [
       "<div>\n",
       "<style scoped>\n",
       "    .dataframe tbody tr th:only-of-type {\n",
       "        vertical-align: middle;\n",
       "    }\n",
       "\n",
       "    .dataframe tbody tr th {\n",
       "        vertical-align: top;\n",
       "    }\n",
       "\n",
       "    .dataframe thead th {\n",
       "        text-align: right;\n",
       "    }\n",
       "</style>\n",
       "<table border=\"1\" class=\"dataframe\">\n",
       "  <thead>\n",
       "    <tr style=\"text-align: right;\">\n",
       "      <th></th>\n",
       "      <th>Mês</th>\n",
       "      <th>Dia</th>\n",
       "      <th>Hora</th>\n",
       "      <th>TBS {C}</th>\n",
       "      <th>TBU {C}</th>\n",
       "      <th>T. Pto Orvalho {C}</th>\n",
       "      <th>Pressao Atmosferica {kPa}</th>\n",
       "      <th>Umidade {kg/kg}</th>\n",
       "      <th>U. R. {%}</th>\n",
       "      <th>Densidade do ar {kg/m3}</th>\n",
       "      <th>Entalpia {BTU/LB}</th>\n",
       "      <th>Velocidade do Vento {m/s}</th>\n",
       "      <th>Direção do Vento {graus}</th>\n",
       "      <th>Cobertura Total de Nuvens {decimas}</th>\n",
       "      <th>Rad Horizontal Extraterreste {Wh/m2}</th>\n",
       "      <th>Rad Global Horizontal {Wh/m2}</th>\n",
       "      <th>Rad Direta {Wh/m2}</th>\n",
       "      <th>Rad Direta Normal {Wh/m2}</th>\n",
       "      <th>Rad Difusa Horizontal {Wh/m2}</th>\n",
       "    </tr>\n",
       "  </thead>\n",
       "  <tbody>\n",
       "    <tr>\n",
       "      <th>0</th>\n",
       "      <td>1</td>\n",
       "      <td>1</td>\n",
       "      <td>1</td>\n",
       "      <td>19.0</td>\n",
       "      <td>18.3</td>\n",
       "      <td>17.7</td>\n",
       "      <td>89.7</td>\n",
       "      <td>0.014630</td>\n",
       "      <td>94</td>\n",
       "      <td>1.045220</td>\n",
       "      <td>56.1</td>\n",
       "      <td>3</td>\n",
       "      <td>300</td>\n",
       "      <td>10</td>\n",
       "      <td>0</td>\n",
       "      <td>0</td>\n",
       "      <td>0</td>\n",
       "      <td>0</td>\n",
       "      <td>0</td>\n",
       "    </tr>\n",
       "    <tr>\n",
       "      <th>1</th>\n",
       "      <td>1</td>\n",
       "      <td>1</td>\n",
       "      <td>2</td>\n",
       "      <td>18.7</td>\n",
       "      <td>18.2</td>\n",
       "      <td>17.7</td>\n",
       "      <td>89.6</td>\n",
       "      <td>0.014635</td>\n",
       "      <td>96</td>\n",
       "      <td>1.045120</td>\n",
       "      <td>55.8</td>\n",
       "      <td>4</td>\n",
       "      <td>320</td>\n",
       "      <td>6</td>\n",
       "      <td>0</td>\n",
       "      <td>0</td>\n",
       "      <td>0</td>\n",
       "      <td>0</td>\n",
       "      <td>0</td>\n",
       "    </tr>\n",
       "    <tr>\n",
       "      <th>2</th>\n",
       "      <td>1</td>\n",
       "      <td>1</td>\n",
       "      <td>3</td>\n",
       "      <td>18.7</td>\n",
       "      <td>18.2</td>\n",
       "      <td>17.7</td>\n",
       "      <td>89.5</td>\n",
       "      <td>0.014652</td>\n",
       "      <td>96</td>\n",
       "      <td>1.043925</td>\n",
       "      <td>55.8</td>\n",
       "      <td>2</td>\n",
       "      <td>320</td>\n",
       "      <td>9</td>\n",
       "      <td>0</td>\n",
       "      <td>0</td>\n",
       "      <td>0</td>\n",
       "      <td>0</td>\n",
       "      <td>0</td>\n",
       "    </tr>\n",
       "    <tr>\n",
       "      <th>3</th>\n",
       "      <td>1</td>\n",
       "      <td>1</td>\n",
       "      <td>4</td>\n",
       "      <td>18.8</td>\n",
       "      <td>17.8</td>\n",
       "      <td>17.1</td>\n",
       "      <td>89.6</td>\n",
       "      <td>0.014049</td>\n",
       "      <td>91</td>\n",
       "      <td>1.045724</td>\n",
       "      <td>54.4</td>\n",
       "      <td>0</td>\n",
       "      <td>0</td>\n",
       "      <td>9</td>\n",
       "      <td>0</td>\n",
       "      <td>0</td>\n",
       "      <td>0</td>\n",
       "      <td>0</td>\n",
       "      <td>0</td>\n",
       "    </tr>\n",
       "    <tr>\n",
       "      <th>4</th>\n",
       "      <td>1</td>\n",
       "      <td>1</td>\n",
       "      <td>5</td>\n",
       "      <td>18.8</td>\n",
       "      <td>17.3</td>\n",
       "      <td>16.3</td>\n",
       "      <td>89.5</td>\n",
       "      <td>0.013398</td>\n",
       "      <td>87</td>\n",
       "      <td>1.045627</td>\n",
       "      <td>52.8</td>\n",
       "      <td>0</td>\n",
       "      <td>0</td>\n",
       "      <td>10</td>\n",
       "      <td>0</td>\n",
       "      <td>0</td>\n",
       "      <td>0</td>\n",
       "      <td>0</td>\n",
       "      <td>0</td>\n",
       "    </tr>\n",
       "  </tbody>\n",
       "</table>\n",
       "</div>"
      ],
      "text/plain": [
       "   Mês  Dia  Hora  TBS {C}  TBU {C}  T. Pto Orvalho {C}  \\\n",
       "0    1    1     1     19.0     18.3                17.7   \n",
       "1    1    1     2     18.7     18.2                17.7   \n",
       "2    1    1     3     18.7     18.2                17.7   \n",
       "3    1    1     4     18.8     17.8                17.1   \n",
       "4    1    1     5     18.8     17.3                16.3   \n",
       "\n",
       "   Pressao Atmosferica {kPa}  Umidade {kg/kg}  U. R. {%}  \\\n",
       "0                       89.7         0.014630         94   \n",
       "1                       89.6         0.014635         96   \n",
       "2                       89.5         0.014652         96   \n",
       "3                       89.6         0.014049         91   \n",
       "4                       89.5         0.013398         87   \n",
       "\n",
       "   Densidade do ar {kg/m3}  Entalpia {BTU/LB}  Velocidade do Vento {m/s}  \\\n",
       "0                 1.045220               56.1                          3   \n",
       "1                 1.045120               55.8                          4   \n",
       "2                 1.043925               55.8                          2   \n",
       "3                 1.045724               54.4                          0   \n",
       "4                 1.045627               52.8                          0   \n",
       "\n",
       "   Direção do Vento {graus}  Cobertura Total de Nuvens {decimas}  \\\n",
       "0                       300                                   10   \n",
       "1                       320                                    6   \n",
       "2                       320                                    9   \n",
       "3                         0                                    9   \n",
       "4                         0                                   10   \n",
       "\n",
       "   Rad Horizontal Extraterreste {Wh/m2}  Rad Global Horizontal {Wh/m2}  \\\n",
       "0                                     0                              0   \n",
       "1                                     0                              0   \n",
       "2                                     0                              0   \n",
       "3                                     0                              0   \n",
       "4                                     0                              0   \n",
       "\n",
       "   Rad Direta {Wh/m2}  Rad Direta Normal {Wh/m2}  \\\n",
       "0                   0                          0   \n",
       "1                   0                          0   \n",
       "2                   0                          0   \n",
       "3                   0                          0   \n",
       "4                   0                          0   \n",
       "\n",
       "   Rad Difusa Horizontal {Wh/m2}  \n",
       "0                              0  \n",
       "1                              0  \n",
       "2                              0  \n",
       "3                              0  \n",
       "4                              0  "
      ]
     },
     "execution_count": 32,
     "metadata": {},
     "output_type": "execute_result"
    }
   ],
   "source": [
    "df = pd.read_csv(\n",
    "    'https://github.com/fernandosola/analisedados-python/raw/master/dados/clima_brasilia/BrasiliaTRY1962_05.csv',\n",
    "    sep=',',\n",
    "    encoding='latin1'\n",
    ")\n",
    "\n",
    "df.head()"
   ]
  },
  {
   "cell_type": "markdown",
   "metadata": {},
   "source": [
    "__B.__ Crie um índice com data e hora para este DataFrame de acordo com os campo mes, dia e hora. Lembre-se que o ano é 1965."
   ]
  },
  {
   "cell_type": "code",
   "execution_count": 34,
   "metadata": {},
   "outputs": [
    {
     "data": {
      "text/html": [
       "<div>\n",
       "<style scoped>\n",
       "    .dataframe tbody tr th:only-of-type {\n",
       "        vertical-align: middle;\n",
       "    }\n",
       "\n",
       "    .dataframe tbody tr th {\n",
       "        vertical-align: top;\n",
       "    }\n",
       "\n",
       "    .dataframe thead th {\n",
       "        text-align: right;\n",
       "    }\n",
       "</style>\n",
       "<table border=\"1\" class=\"dataframe\">\n",
       "  <thead>\n",
       "    <tr style=\"text-align: right;\">\n",
       "      <th></th>\n",
       "      <th>Mês</th>\n",
       "      <th>Dia</th>\n",
       "      <th>Hora</th>\n",
       "      <th>TBS {C}</th>\n",
       "      <th>TBU {C}</th>\n",
       "      <th>T. Pto Orvalho {C}</th>\n",
       "      <th>Pressao Atmosferica {kPa}</th>\n",
       "      <th>Umidade {kg/kg}</th>\n",
       "      <th>U. R. {%}</th>\n",
       "      <th>Densidade do ar {kg/m3}</th>\n",
       "      <th>Entalpia {BTU/LB}</th>\n",
       "      <th>Velocidade do Vento {m/s}</th>\n",
       "      <th>Direção do Vento {graus}</th>\n",
       "      <th>Cobertura Total de Nuvens {decimas}</th>\n",
       "      <th>Rad Horizontal Extraterreste {Wh/m2}</th>\n",
       "      <th>Rad Global Horizontal {Wh/m2}</th>\n",
       "      <th>Rad Direta {Wh/m2}</th>\n",
       "      <th>Rad Direta Normal {Wh/m2}</th>\n",
       "      <th>Rad Difusa Horizontal {Wh/m2}</th>\n",
       "    </tr>\n",
       "  </thead>\n",
       "  <tbody>\n",
       "    <tr>\n",
       "      <th>1965-01-01 01:00:00</th>\n",
       "      <td>1</td>\n",
       "      <td>1</td>\n",
       "      <td>1.0</td>\n",
       "      <td>19.0</td>\n",
       "      <td>18.3</td>\n",
       "      <td>17.7</td>\n",
       "      <td>89.7</td>\n",
       "      <td>0.014630</td>\n",
       "      <td>94</td>\n",
       "      <td>1.045220</td>\n",
       "      <td>56.1</td>\n",
       "      <td>3</td>\n",
       "      <td>300</td>\n",
       "      <td>10</td>\n",
       "      <td>0</td>\n",
       "      <td>0</td>\n",
       "      <td>0</td>\n",
       "      <td>0</td>\n",
       "      <td>0</td>\n",
       "    </tr>\n",
       "    <tr>\n",
       "      <th>1965-01-01 02:00:00</th>\n",
       "      <td>1</td>\n",
       "      <td>1</td>\n",
       "      <td>2.0</td>\n",
       "      <td>18.7</td>\n",
       "      <td>18.2</td>\n",
       "      <td>17.7</td>\n",
       "      <td>89.6</td>\n",
       "      <td>0.014635</td>\n",
       "      <td>96</td>\n",
       "      <td>1.045120</td>\n",
       "      <td>55.8</td>\n",
       "      <td>4</td>\n",
       "      <td>320</td>\n",
       "      <td>6</td>\n",
       "      <td>0</td>\n",
       "      <td>0</td>\n",
       "      <td>0</td>\n",
       "      <td>0</td>\n",
       "      <td>0</td>\n",
       "    </tr>\n",
       "    <tr>\n",
       "      <th>1965-01-01 03:00:00</th>\n",
       "      <td>1</td>\n",
       "      <td>1</td>\n",
       "      <td>3.0</td>\n",
       "      <td>18.7</td>\n",
       "      <td>18.2</td>\n",
       "      <td>17.7</td>\n",
       "      <td>89.5</td>\n",
       "      <td>0.014652</td>\n",
       "      <td>96</td>\n",
       "      <td>1.043925</td>\n",
       "      <td>55.8</td>\n",
       "      <td>2</td>\n",
       "      <td>320</td>\n",
       "      <td>9</td>\n",
       "      <td>0</td>\n",
       "      <td>0</td>\n",
       "      <td>0</td>\n",
       "      <td>0</td>\n",
       "      <td>0</td>\n",
       "    </tr>\n",
       "    <tr>\n",
       "      <th>1965-01-01 04:00:00</th>\n",
       "      <td>1</td>\n",
       "      <td>1</td>\n",
       "      <td>4.0</td>\n",
       "      <td>18.8</td>\n",
       "      <td>17.8</td>\n",
       "      <td>17.1</td>\n",
       "      <td>89.6</td>\n",
       "      <td>0.014049</td>\n",
       "      <td>91</td>\n",
       "      <td>1.045724</td>\n",
       "      <td>54.4</td>\n",
       "      <td>0</td>\n",
       "      <td>0</td>\n",
       "      <td>9</td>\n",
       "      <td>0</td>\n",
       "      <td>0</td>\n",
       "      <td>0</td>\n",
       "      <td>0</td>\n",
       "      <td>0</td>\n",
       "    </tr>\n",
       "    <tr>\n",
       "      <th>1965-01-01 05:00:00</th>\n",
       "      <td>1</td>\n",
       "      <td>1</td>\n",
       "      <td>5.0</td>\n",
       "      <td>18.8</td>\n",
       "      <td>17.3</td>\n",
       "      <td>16.3</td>\n",
       "      <td>89.5</td>\n",
       "      <td>0.013398</td>\n",
       "      <td>87</td>\n",
       "      <td>1.045627</td>\n",
       "      <td>52.8</td>\n",
       "      <td>0</td>\n",
       "      <td>0</td>\n",
       "      <td>10</td>\n",
       "      <td>0</td>\n",
       "      <td>0</td>\n",
       "      <td>0</td>\n",
       "      <td>0</td>\n",
       "      <td>0</td>\n",
       "    </tr>\n",
       "  </tbody>\n",
       "</table>\n",
       "</div>"
      ],
      "text/plain": [
       "                     Mês  Dia  Hora  TBS {C}  TBU {C}  T. Pto Orvalho {C}  \\\n",
       "1965-01-01 01:00:00    1    1   1.0     19.0     18.3                17.7   \n",
       "1965-01-01 02:00:00    1    1   2.0     18.7     18.2                17.7   \n",
       "1965-01-01 03:00:00    1    1   3.0     18.7     18.2                17.7   \n",
       "1965-01-01 04:00:00    1    1   4.0     18.8     17.8                17.1   \n",
       "1965-01-01 05:00:00    1    1   5.0     18.8     17.3                16.3   \n",
       "\n",
       "                     Pressao Atmosferica {kPa}  Umidade {kg/kg}  U. R. {%}  \\\n",
       "1965-01-01 01:00:00                       89.7         0.014630         94   \n",
       "1965-01-01 02:00:00                       89.6         0.014635         96   \n",
       "1965-01-01 03:00:00                       89.5         0.014652         96   \n",
       "1965-01-01 04:00:00                       89.6         0.014049         91   \n",
       "1965-01-01 05:00:00                       89.5         0.013398         87   \n",
       "\n",
       "                     Densidade do ar {kg/m3}  Entalpia {BTU/LB}  \\\n",
       "1965-01-01 01:00:00                 1.045220               56.1   \n",
       "1965-01-01 02:00:00                 1.045120               55.8   \n",
       "1965-01-01 03:00:00                 1.043925               55.8   \n",
       "1965-01-01 04:00:00                 1.045724               54.4   \n",
       "1965-01-01 05:00:00                 1.045627               52.8   \n",
       "\n",
       "                     Velocidade do Vento {m/s}  Direção do Vento {graus}  \\\n",
       "1965-01-01 01:00:00                          3                       300   \n",
       "1965-01-01 02:00:00                          4                       320   \n",
       "1965-01-01 03:00:00                          2                       320   \n",
       "1965-01-01 04:00:00                          0                         0   \n",
       "1965-01-01 05:00:00                          0                         0   \n",
       "\n",
       "                     Cobertura Total de Nuvens {decimas}  \\\n",
       "1965-01-01 01:00:00                                   10   \n",
       "1965-01-01 02:00:00                                    6   \n",
       "1965-01-01 03:00:00                                    9   \n",
       "1965-01-01 04:00:00                                    9   \n",
       "1965-01-01 05:00:00                                   10   \n",
       "\n",
       "                     Rad Horizontal Extraterreste {Wh/m2}  \\\n",
       "1965-01-01 01:00:00                                     0   \n",
       "1965-01-01 02:00:00                                     0   \n",
       "1965-01-01 03:00:00                                     0   \n",
       "1965-01-01 04:00:00                                     0   \n",
       "1965-01-01 05:00:00                                     0   \n",
       "\n",
       "                     Rad Global Horizontal {Wh/m2}  Rad Direta {Wh/m2}  \\\n",
       "1965-01-01 01:00:00                              0                   0   \n",
       "1965-01-01 02:00:00                              0                   0   \n",
       "1965-01-01 03:00:00                              0                   0   \n",
       "1965-01-01 04:00:00                              0                   0   \n",
       "1965-01-01 05:00:00                              0                   0   \n",
       "\n",
       "                     Rad Direta Normal {Wh/m2}  Rad Difusa Horizontal {Wh/m2}  \n",
       "1965-01-01 01:00:00                          0                              0  \n",
       "1965-01-01 02:00:00                          0                              0  \n",
       "1965-01-01 03:00:00                          0                              0  \n",
       "1965-01-01 04:00:00                          0                              0  \n",
       "1965-01-01 05:00:00                          0                              0  "
      ]
     },
     "execution_count": 34,
     "metadata": {},
     "output_type": "execute_result"
    }
   ],
   "source": [
    "indice = df.apply(lambda x: f\"1965-{int(x['Mês'])}-{int(x['Dia'])} {int(x['Hora'])}:00\",axis=1)\n",
    "\n",
    "df.at[df['Hora'] == 24.0, 'Hora'] = 0.0\n",
    "indice = pd.to_datetime(indice)\n",
    "\n",
    "df = df.set_index(indice)\n",
    "\n",
    "df.head()"
   ]
  },
  {
   "cell_type": "markdown",
   "metadata": {},
   "source": [
    "__C.__ Exiba um scatter plot com as colunas 'U. R. {%}', 'TBS {C}'"
   ]
  },
  {
   "cell_type": "code",
   "execution_count": 176,
   "metadata": {
    "scrolled": true
   },
   "outputs": [
    {
     "data": {
      "image/png": "[encoded data removed]",
      "text/plain": [
       "<matplotlib.figure.Figure at 0x23633c2e8d0>"
      ]
     },
     "metadata": {},
     "output_type": "display_data"
    }
   ],
   "source": [
    "# utilize df.plot.scatter\n",
    "df.plot.scatter('U. R. {%}', 'TBS {C}')\n",
    "plt.show()"
   ]
  },
  {
   "cell_type": "markdown",
   "metadata": {},
   "source": [
    "__D.__ Exiba um mapa de calor das correlações. Utilize sns.heatmap."
   ]
  },
  {
   "cell_type": "code",
   "execution_count": 169,
   "metadata": {},
   "outputs": [
    {
     "data": {
      "image/png": "[encoded data removed]",
      "text/plain": [
       "<matplotlib.figure.Figure at 0x236339407f0>"
      ]
     },
     "metadata": {},
     "output_type": "display_data"
    }
   ],
   "source": [
    "sns.heatmap(df_ur.corr())\n",
    "plt.show()"
   ]
  },
  {
   "cell_type": "markdown",
   "metadata": {
    "collapsed": true
   },
   "source": [
    "___\n",
    "__Material produzido para o curso__:\n",
    "* Introdução à Análise de Dados com Python\n",
    "\n",
    "__Autor__:\n",
    "* Fernando Sola Pereira\n",
    "\n",
    "__Revisão__:\n",
    "* 1.0"
   ]
  }
 ],
 "metadata": {
  "kernelspec": {
   "display_name": "Python 3",
   "language": "python",
   "name": "python3"
  },
  "language_info": {
   "codemirror_mode": {
    "name": "ipython",
    "version": 3
   },
   "file_extension": ".py",
   "mimetype": "text/x-python",
   "name": "python",
   "nbconvert_exporter": "python",
   "pygments_lexer": "ipython3",
   "version": "3.6.6"
  }
 },
 "nbformat": 4,
 "nbformat_minor": 2
}
