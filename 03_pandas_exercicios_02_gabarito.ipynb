{
 "cells": [
  {
   "cell_type": "markdown",
   "metadata": {
    "colab_type": "text",
    "id": "HDm4_x_SS7vM"
   },
   "source": [
    "# 03 02 Exercícios Pandas\n",
    "\n",
    "---"
   ]
  },
  {
   "cell_type": "code",
   "execution_count": 107,
   "metadata": {},
   "outputs": [],
   "source": [
    "Pandasimport os\n",
    "import numpy as np\n",
    "import pandas as pd\n",
    "import re\n",
    "import matplotlib.pyplot as plt"
   ]
  },
  {
   "cell_type": "markdown",
   "metadata": {
    "colab_type": "text",
    "id": "1aDBgkUvgeTL"
   },
   "source": [
    "## EX01\n",
    "\n",
    "* Carregue para um DataFrame a lista de municípios de fronteira do Brasil utilizando o arquivo \"https://github.com/fernandosola/analisedados-python/raw/master/dados/arq_municipios_fronteiricos.tsv\"."
   ]
  },
  {
   "cell_type": "code",
   "execution_count": 109,
   "metadata": {},
   "outputs": [
    {
     "data": {
      "text/html": [
       "<div>\n",
       "<style scoped>\n",
       "    .dataframe tbody tr th:only-of-type {\n",
       "        vertical-align: middle;\n",
       "    }\n",
       "\n",
       "    .dataframe tbody tr th {\n",
       "        vertical-align: top;\n",
       "    }\n",
       "\n",
       "    .dataframe thead th {\n",
       "        text-align: right;\n",
       "    }\n",
       "</style>\n",
       "<table border=\"1\" class=\"dataframe\">\n",
       "  <thead>\n",
       "    <tr style=\"text-align: right;\">\n",
       "      <th></th>\n",
       "      <th>Município</th>\n",
       "      <th>Estado</th>\n",
       "      <th>Área territorial</th>\n",
       "      <th>População (IBGE/2007)</th>\n",
       "      <th>Densidade demográfica (hab/km2)</th>\n",
       "      <th>PIB (IBGE/2005)</th>\n",
       "      <th>PIB per capita (R$)</th>\n",
       "      <th>IDH/2000</th>\n",
       "    </tr>\n",
       "  </thead>\n",
       "  <tbody>\n",
       "    <tr>\n",
       "      <th>0</th>\n",
       "      <td>1 - Aceguá</td>\n",
       "      <td>Rio Grande do Sul</td>\n",
       "      <td>1.550</td>\n",
       "      <td>4.138</td>\n",
       "      <td>2,66</td>\n",
       "      <td>71.638.000</td>\n",
       "      <td>17.266</td>\n",
       "      <td>ni</td>\n",
       "    </tr>\n",
       "    <tr>\n",
       "      <th>1</th>\n",
       "      <td>2 - Acrelândia</td>\n",
       "      <td>Acre</td>\n",
       "      <td>1.575</td>\n",
       "      <td>11.520</td>\n",
       "      <td>7,31</td>\n",
       "      <td>114.350.000</td>\n",
       "      <td>9.986</td>\n",
       "      <td>0,680</td>\n",
       "    </tr>\n",
       "    <tr>\n",
       "      <th>2</th>\n",
       "      <td>3 - Alecrim</td>\n",
       "      <td>Rio Grande do Sul</td>\n",
       "      <td>315</td>\n",
       "      <td>7.357</td>\n",
       "      <td>23,35</td>\n",
       "      <td>44.373.000</td>\n",
       "      <td>5.944</td>\n",
       "      <td>0,743</td>\n",
       "    </tr>\n",
       "    <tr>\n",
       "      <th>3</th>\n",
       "      <td>4 - Almeirim</td>\n",
       "      <td>Pará</td>\n",
       "      <td>72.960</td>\n",
       "      <td>30.903</td>\n",
       "      <td>0,42</td>\n",
       "      <td>462.258.000</td>\n",
       "      <td>13.485</td>\n",
       "      <td>0,745</td>\n",
       "    </tr>\n",
       "    <tr>\n",
       "      <th>4</th>\n",
       "      <td>5 - Alta Floresta d'Oeste</td>\n",
       "      <td>Rondônia</td>\n",
       "      <td>7.067</td>\n",
       "      <td>23.857</td>\n",
       "      <td>3,37</td>\n",
       "      <td>186.812.000</td>\n",
       "      <td>6.525</td>\n",
       "      <td>0,715</td>\n",
       "    </tr>\n",
       "  </tbody>\n",
       "</table>\n",
       "</div>"
      ],
      "text/plain": [
       "                   Município             Estado Área territorial  \\\n",
       "0                 1 - Aceguá  Rio Grande do Sul            1.550   \n",
       "1             2 - Acrelândia               Acre            1.575   \n",
       "2                3 - Alecrim  Rio Grande do Sul              315   \n",
       "3               4 - Almeirim               Pará           72.960   \n",
       "4  5 - Alta Floresta d'Oeste           Rondônia            7.067   \n",
       "\n",
       "  População (IBGE/2007) Densidade demográfica (hab/km2) PIB (IBGE/2005)  \\\n",
       "0                 4.138                            2,66      71.638.000   \n",
       "1                11.520                            7,31     114.350.000   \n",
       "2                 7.357                           23,35      44.373.000   \n",
       "3                30.903                            0,42     462.258.000   \n",
       "4                23.857                            3,37     186.812.000   \n",
       "\n",
       "  PIB per capita (R$) IDH/2000  \n",
       "0              17.266       ni  \n",
       "1               9.986    0,680  \n",
       "2               5.944    0,743  \n",
       "3              13.485    0,745  \n",
       "4               6.525    0,715  "
      ]
     },
     "execution_count": 109,
     "metadata": {},
     "output_type": "execute_result"
    }
   ],
   "source": [
    "# Complete o código abaixo para realizar a leitura do arquivo\n",
    "# o arquivo utiliza tabulação como separador\n",
    "# dentro de strings a tabulação é representada como \\t\n",
    "df_muni_front = pd.read_csv('https://github.com/fernandosola/analisedados-python/raw/master/dados/arq_municipios_fronteiricos.tsv', sep='\\t', dtype=str)\n",
    "\n",
    "# Visualize as 5 primeiras linhas do DataFrame\n",
    "#df_muni_front.___()\n",
    "df_muni_front.head()"
   ]
  },
  {
   "cell_type": "markdown",
   "metadata": {},
   "source": [
    "* Realize um tratamento na coluna Município para remover os números e hífens.\n",
    "    * primeiro crie uma que função recebe uma string com o nome do município, realiza a remoção dos números e hifens e retorna a nova string tratada\n",
    "    * faça os testes com a sua função até que o resultado esteja satisfatório\n",
    "    * passe a sua função como parâmetro para o método apply do DataFrame"
   ]
  },
  {
   "cell_type": "code",
   "execution_count": null,
   "metadata": {},
   "outputs": [],
   "source": [
    "# função que irá realizar o tratamento para um município\n",
    "def tratar_nome_municipio(nome_municipio):\n",
    "    #realize a limpeza\n",
    "    #nome_municipio_tratado = ___\n",
    "    #nome_municipio_tratado = ___\n",
    "    nome_municipio_tratado = re.sub(r'([\\d]* [–-] )(.*)', r'\\2', nome_municipio)\n",
    "    return nome_municipio_tratado\n",
    "\n",
    "# faça um teste de sua função para verificar se a transformação está correta\n",
    "tratar_nome_municipio('1 – Aceguá')"
   ]
  },
  {
   "cell_type": "code",
   "execution_count": null,
   "metadata": {},
   "outputs": [],
   "source": [
    "# aplique a função utilizando o método apply\n",
    "municipios_tratados = df_muni_front['Município'].apply(tratar_nome_municipio)"
   ]
  },
  {
   "cell_type": "code",
   "execution_count": null,
   "metadata": {},
   "outputs": [],
   "source": [
    "# exiba todos os dados e verifique se o resultado está correto\n",
    "municipios_tratados.head()"
   ]
  },
  {
   "cell_type": "code",
   "execution_count": null,
   "metadata": {},
   "outputs": [],
   "source": [
    "# com todos os municípios devidamente tratados\n",
    "# sobrescreva a coluna Município com os novos valores\n",
    "df_muni_front['Município'] = municipios_tratados\n",
    "\n",
    "# exiba as informações\n",
    "df_muni_front.head()"
   ]
  },
  {
   "cell_type": "markdown",
   "metadata": {},
   "source": [
    "## EX02\n",
    "\n",
    "Ainda utilizando o DataFrame carregado no exercício anterior, verifique os tipos de dados das colunas do dataframe. Todos os dados numéricos deverão ser transformados para tipos numéricos.\n",
    "\n",
    "* utilize o método info() do DataFrame para saber detalhes dos tipos de dados das colunas\n",
    "* verifique se os números possuem os símbolos de decimal e separadores de milhar compatíveis com a linguagem. Se necessário, fazer as substituições pertinentes."
   ]
  },
  {
   "cell_type": "code",
   "execution_count": null,
   "metadata": {},
   "outputs": [],
   "source": [
    "# verifique os tipos das colunas do DataFrame: df_muni_front\n",
    "# ___.___()\n",
    "df_muni_front.info()"
   ]
  },
  {
   "cell_type": "code",
   "execution_count": null,
   "metadata": {},
   "outputs": [],
   "source": [
    "# faça a conversão do campo 'Área territorial'\n",
    "\n",
    "'''\n",
    "def converter_para_float(texto):\n",
    "    # faça as operações necessárias e \n",
    "    # devolva um objeto do tipo float\n",
    "    # ou np.NaN (tipo Not a Number do numpy)\n",
    "    pass\n",
    "'''\n",
    "\n",
    "def converter_para_float(texto):\n",
    "    try:\n",
    "        if type(texto) == str:\n",
    "            t = texto.replace('.', '')\n",
    "            t = t.replace(',', '.')\n",
    "            n = float(t)\n",
    "            return n\n",
    "        elif type(texto) == int or type(texto) == float:\n",
    "            return texto\n",
    "    except:\n",
    "        pass\n",
    "    return np.NaN\n",
    "\n",
    "# faça os testes com a sua função\n",
    "area_territorial = df_muni_front['Área territorial'].apply(converter_para_float)\n",
    "area_territorial.head(2)"
   ]
  },
  {
   "cell_type": "code",
   "execution_count": null,
   "metadata": {},
   "outputs": [],
   "source": [
    "# substitua a coluna pelos valores convertidos\n",
    "#____.loc[:, ___] = ___\n",
    "df_muni_front.loc[:, 'Área territorial'] = area_territorial\n",
    "\n",
    "# faça o mesmo para todas as colunas numéricas\n",
    "for idx, coluna in enumerate(df_muni_front.columns):\n",
    "    if idx > 2:\n",
    "        df_muni_front.loc[:, coluna] = \\\n",
    "            df_muni_front[coluna].apply(converter_para_float)"
   ]
  },
  {
   "cell_type": "code",
   "execution_count": null,
   "metadata": {},
   "outputs": [],
   "source": [
    "# imprima novamente as informações das colunas e verifique os tipos\n",
    "# ___.___()\n",
    "df_muni_front.info()"
   ]
  },
  {
   "cell_type": "code",
   "execution_count": null,
   "metadata": {},
   "outputs": [],
   "source": [
    "# imprima novamente as primeiras linhas do DataFrame\n",
    "# ___.___()\n",
    "df_muni_front.head()"
   ]
  },
  {
   "cell_type": "markdown",
   "metadata": {},
   "source": [
    "## EX03\n",
    "\n"
   ]
  },
  {
   "cell_type": "markdown",
   "metadata": {},
   "source": [
    "Crie uma coluna com a sigla dos estados.\n",
    "\n",
    "* crie um set à partir da coluna Estados. Atribua a uma variável chamada __nomes_estados__."
   ]
  },
  {
   "cell_type": "code",
   "execution_count": null,
   "metadata": {},
   "outputs": [],
   "source": [
    "# crie o set e verifique o seu conteúdo\n",
    "# ___ = ___\n",
    "nomes_estados = set(df_muni_front['Estado'])\n",
    "\n",
    "# ___\n",
    "nomes_estados"
   ]
  },
  {
   "cell_type": "markdown",
   "metadata": {
    "collapsed": true
   },
   "source": [
    "Você identificou um problema no nome dos estados?\n",
    "Vamos corrigir no final.\n",
    "\n",
    "* crie um dicionário onde o nome completo do estado é a chave e a sigla é o valor: __dic_nomes_siglas__"
   ]
  },
  {
   "cell_type": "code",
   "execution_count": null,
   "metadata": {},
   "outputs": [],
   "source": [
    "# crie o dicionário\n",
    "# ___ = ___\n",
    "dic_nomes_siglas = {\n",
    "    'Acre': 'AC',\n",
    "    'Amapá': 'AP',\n",
    "    'Amazonas': 'AM',\n",
    "    'Mato Grosso': 'MT',\n",
    "    'Mato Grosso do Sul': 'MS',\n",
    "    'Paraná': 'PR',\n",
    "    'Pará': 'PA',\n",
    "    'Rio Grande do Sul': 'RS',\n",
    "    'Rondônia': 'RO',\n",
    "    'Roraima': 'RR',\n",
    "    'Santa Cataria': 'SC',\n",
    "    'Santa Catarina': 'SC',\n",
    "}"
   ]
  },
  {
   "cell_type": "markdown",
   "metadata": {
    "collapsed": true
   },
   "source": [
    "* utilize a função map do DataFrame para criar uma nova coluna de siglas à partir dos nomes dos estados. Passe o dicionário criado para a função map. Atribua a Série criada à variável __coluna_siglas_uf__."
   ]
  },
  {
   "cell_type": "code",
   "execution_count": null,
   "metadata": {},
   "outputs": [],
   "source": [
    "# faça o mapeamento dos valores e atribua a : coluna_siglas_uf\n",
    "# ___ = ___\n",
    "coluna_siglas_uf = df_muni_front['Estado'].map(dic_nomes_siglas)\n",
    "\n",
    "# verifique os 10 primeiros itens criados\n",
    "# ___.___(10)\n",
    "coluna_siglas_uf.head(10)"
   ]
  },
  {
   "cell_type": "code",
   "execution_count": null,
   "metadata": {},
   "outputs": [],
   "source": [
    "# crie a coluna sigla\n",
    "# ___ = ___\n",
    "df_muni_front['Sigla'] = coluna_siglas_uf\n",
    "\n",
    "# verifique as informações do dataframe\n",
    "# ___\n",
    "df_muni_front.head()"
   ]
  },
  {
   "cell_type": "code",
   "execution_count": null,
   "metadata": {},
   "outputs": [],
   "source": [
    "# verifique quantos registros possuem o nome do estado de Santa Catarina escrito errado\n",
    "# ___ = ___\n",
    "len(df_muni_front.loc[df_muni_front['Estado'] == 'Santa Cataria'])"
   ]
  },
  {
   "cell_type": "code",
   "execution_count": null,
   "metadata": {},
   "outputs": [],
   "source": [
    "# faça a correção dos registros que possuem o nome do estado de Santa Catarina escrito errado\n",
    "# ___ = ___\n",
    "df_muni_front.loc[df_muni_front['Estado'] == 'Santa Cataria', 'Estado'] = 'Santa Catarina'"
   ]
  },
  {
   "cell_type": "code",
   "execution_count": null,
   "metadata": {},
   "outputs": [],
   "source": [
    "# verifique, novamente, quantos registros possuem o nome do estado de Santa Catarina escrito errado\n",
    "# ___\n",
    "len(df_muni_front.loc[df_muni_front['Estado'] == 'Santa Cataria'])"
   ]
  },
  {
   "cell_type": "markdown",
   "metadata": {},
   "source": [
    "## EX04\n",
    "\n",
    "Identifique quais municípios possuem 2 ou mais desvios na coluna PIB."
   ]
  },
  {
   "cell_type": "code",
   "execution_count": null,
   "metadata": {},
   "outputs": [],
   "source": [
    "# normalize a coluna PIB em quantidade de desvios padrão\n",
    "#___\n",
    "\n",
    "pib_desvios = ((df_muni_front['PIB (IBGE/2005)']-df_muni_front['PIB (IBGE/2005)'].mean()) / df_muni_front['PIB (IBGE/2005)'].std())\n",
    "pib_desvios.head()"
   ]
  },
  {
   "cell_type": "code",
   "execution_count": null,
   "metadata": {
    "scrolled": true
   },
   "outputs": [],
   "source": [
    "# quais cidades possuem mais de 2 desvios \n",
    "df_muni_front.loc[ pib_desvios >= 2 ]"
   ]
  },
  {
   "cell_type": "markdown",
   "metadata": {},
   "source": [
    "## EX05\n",
    "\n",
    "Perguntas rápidas."
   ]
  },
  {
   "cell_type": "code",
   "execution_count": null,
   "metadata": {},
   "outputs": [],
   "source": [
    "# quantos registros possuem NaN na coluna IDH/2000?\n",
    "# ___\n",
    "df_muni_front.loc[df_muni_front['IDH/2000'].isnull()].shape"
   ]
  },
  {
   "cell_type": "code",
   "execution_count": null,
   "metadata": {},
   "outputs": [],
   "source": [
    "# quantas cidades por estado?\n",
    "# ___\n",
    "df_muni_front[['Sigla', 'Município']]\\\n",
    "    .groupby('Sigla')\\\n",
    "    .count()\\\n",
    "    .sort_values('Município', ascending=False)\\\n",
    "    .reset_index()"
   ]
  },
  {
   "cell_type": "code",
   "execution_count": null,
   "metadata": {},
   "outputs": [],
   "source": [
    "# faça a ordenação do DataFrame pelo nome do município\n",
    "# a ordenação está correta?\n",
    "\n",
    "from libs.texto import TratamentoTexto as ttx\n",
    "indices_ordenados = df_muni_front['Município'].str.lower().apply(lambda x: ttx.remover_acentuacao(x)).argsort()\n",
    "df_muni_front.iloc[indices_ordenados.sort_index(ascending=True), :].head()"
   ]
  },
  {
   "cell_type": "markdown",
   "metadata": {},
   "source": [
    "___\n",
    "__Material produzido para o curso__:\n",
    "* Introdução à Análise de Dados com Python\n",
    "\n",
    "__Autor__:\n",
    "* Fernando Sola Pereira\n",
    "\n",
    "__Revisão__:\n",
    "* 1.0"
   ]
  }
 ],
 "metadata": {
  "accelerator": "GPU",
  "colab": {
   "collapsed_sections": [],
   "default_view": {},
   "name": "aula_03_01_python_basico.ipynb",
   "private_outputs": true,
   "provenance": [],
   "version": "0.3.2",
   "views": {}
  },
  "kernelspec": {
   "display_name": "Python 3",
   "language": "python",
   "name": "python3"
  },
  "language_info": {
   "codemirror_mode": {
    "name": "ipython",
    "version": 3
   },
   "file_extension": ".py",
   "mimetype": "text/x-python",
   "name": "python",
   "nbconvert_exporter": "python",
   "pygments_lexer": "ipython3",
   "version": "3.6.6"
  }
 },
 "nbformat": 4,
 "nbformat_minor": 2
}
