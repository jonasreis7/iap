{
 "cells": [
  {
   "cell_type": "markdown",
   "metadata": {},
   "source": [
    "# Lista de Exercícios de Python\n",
    "\n",
    "Todos os exercícios possuem uma solução comentada.\n",
    "\n",
    "Tente executar cada passo da solução apresentada para ter um entendimento melhor.\n",
    "Lembre-se: \n",
    "\n",
    "Que objeto é esse? \n",
    "* type()\n",
    "\n",
    "O que posso fazer com ele? \n",
    "* dir() ou python docs (https://docs.python.org/3/)\n",
    "\n",
    "Ajuda rápida?\n",
    "* help(), ou Shift+tab no jupyter notebook"
   ]
  },
  {
   "cell_type": "code",
   "execution_count": 20,
   "metadata": {},
   "outputs": [
    {
     "name": "stdout",
     "output_type": "stream",
     "text": [
      "20\n",
      "(20 + 2020 + 202020) * 2\n"
     ]
    },
    {
     "data": {
      "text/plain": [
       "408120"
      ]
     },
     "execution_count": 20,
     "metadata": {},
     "output_type": "execute_result"
    }
   ],
   "source": [
    "\"\"\"\n",
    "1. Escreva um código que recebe um número \"n\" como entrada do usuário e \n",
    "retorna o cálculo \"(n + nn + nnn) * 2\".\n",
    "\n",
    "Para receber o número do usuário utilize a função input() como \n",
    "demonstrada abaixo.\n",
    "\"\"\"\n",
    "n = input()\n",
    "\n",
    "# o retorno da função input é do tipo string\n",
    "# entao podemos contatenar para formar o par\n",
    "# trio antes de converter para número\n",
    "nn = int(n+n)\n",
    "nnn = int(n+n+n)\n",
    "n = int(n)\n",
    "\n",
    "# agora podemos realizar a operação\n",
    "print(f'({n} + {nn} + {nnn}) * 2')\n",
    "(n + nn + nnn) * 2"
   ]
  },
  {
   "cell_type": "code",
   "execution_count": 4,
   "metadata": {},
   "outputs": [
    {
     "data": {
      "text/plain": [
       "322"
      ]
     },
     "execution_count": 4,
     "metadata": {},
     "output_type": "execute_result"
    }
   ],
   "source": [
    "\"\"\"\n",
    "2. Escreva um código que calcula o tamanho da string contida na variável texto.\n",
    "\"\"\"\n",
    "\n",
    "texto = \"\"\"\\\n",
    "Autopsicografia\n",
    "\n",
    "O poeta é um fingidor.\n",
    "Finge tão completamente\n",
    "Que chega a fingir que é dor\n",
    "A dor que deveras sente.\n",
    "\n",
    "E os que leem o que escreve,\n",
    "Na dor lida sentem bem,\n",
    "Não as duas que ele teve,\n",
    "Mas só a que eles não têm.\n",
    "\n",
    "E assim nas calhas de roda\n",
    "Gira, a entreter a razão,\n",
    "Esse comboio de corda\n",
    "Que se chama coração.\"\"\"\n",
    "\n",
    "# quando a função 'len' recebe uma string como parâmetro, ela\n",
    "# retorna o número de caracteres da string\n",
    "len(texto)"
   ]
  },
  {
   "cell_type": "code",
   "execution_count": 5,
   "metadata": {},
   "outputs": [
    {
     "name": "stdout",
     "output_type": "stream",
     "text": [
      "Conteúdo da lista: ['Autopsicografia', '', 'O poeta é um fingidor.', 'Finge tão completamente', 'Que chega a fingir que é dor', 'A dor que deveras sente.', '', 'E os que leem o que escreve,', 'Na dor lida sentem bem,', 'Não as duas que ele teve,', 'Mas só a que eles não têm.', '', 'E assim nas calhas de roda', 'Gira, a entreter a razão,', 'Esse comboio de corda', 'Que se chama coração.']\n",
      "\n",
      "Número de linhas: 16\n"
     ]
    }
   ],
   "source": [
    "\"\"\"\n",
    "3. Escreva um código que calcula o número de linhas contidas na variável texto\n",
    "utilizada no exercício 2.\n",
    "Para isso:\n",
    "    * faça o uso da função split, utilizando o caracter '\\n' como parâmetro\n",
    "    * o retorno da função split é uma lista de strings. Contem o número de \n",
    "      elementos da lista para saber quatas linhas existem.\n",
    "\"\"\"\n",
    "\n",
    "\n",
    "lista_strings = texto.split('\\n')\n",
    "print(f'Conteúdo da lista: {lista_strings}')\n",
    "\n",
    "numero_linhas = len(lista_strings)\n",
    "print(f'\\nNúmero de linhas: {numero_linhas}')"
   ]
  },
  {
   "cell_type": "code",
   "execution_count": 6,
   "metadata": {},
   "outputs": [
    {
     "data": {
      "text/plain": [
       "['E assim nas calhas de roda',\n",
       " 'Gira, a entreter a razão,',\n",
       " 'Esse comboio de corda',\n",
       " 'Que se chama coração.']"
      ]
     },
     "execution_count": 6,
     "metadata": {},
     "output_type": "execute_result"
    }
   ],
   "source": [
    "\"\"\"\n",
    "4. Escreva um código que retorna apenas as últimas 4 linhas do poema contido\n",
    "na variável 'texto' utilizada no exercício 2.\n",
    "\"\"\"\n",
    "\n",
    "# faça a quebra em linhas como no exercício anterior\n",
    "lista_strings = texto.split('\\n')\n",
    "\n",
    "# utilize o índice reverso para retornar as últimas 4 linhas\n",
    "lista_strings[-4:]"
   ]
  },
  {
   "cell_type": "code",
   "execution_count": 7,
   "metadata": {},
   "outputs": [
    {
     "name": "stdout",
     "output_type": "stream",
     "text": [
      "{'A': 2, 'u': 11, 't': 11, 'o': 21, 'p': 3, 's': 18, 'i': 11, 'c': 9, 'g': 5, 'r': 15, 'a': 26, 'f': 3, '\\n': 15, 'O': 1, ' ': 52, 'e': 39, 'é': 2, 'm': 10, 'n': 9, 'd': 11, '.': 4, 'F': 1, 'ã': 5, 'l': 6, 'Q': 2, 'h': 3, 'q': 6, 'v': 3, 'E': 3, ',': 5, 'N': 2, 'b': 2, 'M': 1, 'ó': 1, 'ê': 1, 'G': 1, 'z': 1, 'ç': 1}\n"
     ]
    }
   ],
   "source": [
    "\"\"\"\n",
    "5. Escreva um código que conta quantas vezes cada caractere aparece \n",
    "no poema contido na variável 'texto' utilizada no exercício 2.\n",
    "\"\"\"\n",
    "\n",
    "# vamos utilizar um dicionario para armazenar o resultado\n",
    "total_por_caractere ={}\n",
    "\n",
    "# faremos um for na variável texto\n",
    "# isso faz com que o bloco do for seja\n",
    "# executado para cada letra do texto\n",
    "for c in texto:\n",
    "    #para cada letra, primeiro verificamos se\n",
    "    #ela não existe no dicionário \n",
    "    if c not in total_por_caractere:\n",
    "        # se não existir, colocamos ela no dicionário\n",
    "        # com o valor 0\n",
    "        total_por_caractere[c] = 0\n",
    "        \n",
    "    # agora temos certeza que existe um total parcial\n",
    "    # ou zero para a letra na variável 'c'\n",
    "    total_parcial_para_c = total_por_caractere.get(c)\n",
    "    # somamos 1 no valor da variável 'c'\n",
    "    total_parcial_para_c = total_parcial_para_c + 1\n",
    "    # colocamos o novo valor no dicionário\n",
    "    total_por_caractere[c] = total_parcial_para_c\n",
    "\n",
    "    \n",
    "print(total_por_caractere)"
   ]
  },
  {
   "cell_type": "code",
   "execution_count": null,
   "metadata": {},
   "outputs": [],
   "source": [
    "for x in set(texto): \n",
    "    print(x, len(texto.split(x))-1)\n"
   ]
  },
  {
   "cell_type": "code",
   "execution_count": 8,
   "metadata": {},
   "outputs": [
    {
     "name": "stdout",
     "output_type": "stream",
     "text": [
      "['.gitignore', '01_python.ipynb', '01_python_basico_exercicios_comentados.ipynb', '02_pandas_series.ipynb', '03_01_pandas_exercicios_gabarito.ipynb', '03_02_pandas_exercicios_gabarito.ipynb', '03_pandas_dataframe.ipynb', '04_passagens_aereas_apf.ipynb', '05_divida_estados_gabarito.ipynb', '06_aula_pratica_gabarito.ipynb', 'LICENSE', 'README.md']\n"
     ]
    }
   ],
   "source": [
    "\"\"\"\n",
    "6. Escreva um código que lista todos os arquivos do diretorio onde \n",
    "este caderno está executando.\n",
    "\"\"\"\n",
    "\n",
    "# A biblioteca 'os' faz parte da biblioteca padrão do python\n",
    "# Ela possui diversas funcionalidades que estão diretamente \n",
    "# relacionadas com o sistema operacional. Lista e manipulação\n",
    "# de arquivos, informações do sistema operacional dentre outras.\n",
    "import os\n",
    "caminho = os.getcwd()\n",
    "\n",
    "# os.walk lista todos os arquivos, diretórios e \n",
    "# subdiretórios encontrados à partir do caminho\n",
    "# informado.\n",
    "for root, dirs, files in os.walk(caminho):\n",
    "    # se não quisermos olhar os subdiretórios\n",
    "    # podemos fazer o teste abaixo\n",
    "    if root == caminho:\n",
    "        print(files)\n"
   ]
  },
  {
   "cell_type": "code",
   "execution_count": 9,
   "metadata": {},
   "outputs": [
    {
     "data": {
      "text/plain": [
       "[873, 720, 670, 559, 542, 503, 287, 179, 176, 129]"
      ]
     },
     "execution_count": 9,
     "metadata": {},
     "output_type": "execute_result"
    }
   ],
   "source": [
    "\"\"\"\n",
    "7. Escreva um códgo para ordenar os elementos da lista\n",
    "em ondem inversa.\n",
    "\"\"\"\n",
    "lista = [503, 559, 179, 287, 129, 873, 542, 720, 176, 670]\n",
    "\n",
    "# utilize o método sort da lista para realizar a sua ordenação\n",
    "# caso queira a ordem inversa, passe o parâmetro reverse=True\n",
    "lista.sort(reverse=True)\n",
    "lista"
   ]
  },
  {
   "cell_type": "code",
   "execution_count": 10,
   "metadata": {},
   "outputs": [
    {
     "data": {
      "text/plain": [
       "[503, 559, 179, 287, 129, 873, 542, 720, 176, 670]"
      ]
     },
     "execution_count": 10,
     "metadata": {},
     "output_type": "execute_result"
    }
   ],
   "source": [
    "\"\"\"\n",
    "8. Escreva um código para concatenar duas listas\n",
    "em uma.\n",
    "\"\"\"\n",
    "lista1 = [503, 559, 179, 287, 129]\n",
    "lista2 = [873, 542, 720, 176, 670]\n",
    "\n",
    "# o operador + entre objetos list realiza a concatenação\n",
    "lista1+lista2"
   ]
  },
  {
   "cell_type": "code",
   "execution_count": 11,
   "metadata": {},
   "outputs": [
    {
     "data": {
      "text/plain": [
       "datetime.datetime(2018, 11, 20, 22, 45, 14, 919147)"
      ]
     },
     "execution_count": 11,
     "metadata": {},
     "output_type": "execute_result"
    }
   ],
   "source": [
    "\"\"\"\n",
    "9. Escreva um código que retorna um objeto datetime\n",
    "com a data e hora atuais.\n",
    "\"\"\"\n",
    "\n",
    "# biblioteca datetime pertence à biblioteca padrão do python\n",
    "# e possui as classes datetime, date, time e timedelta que permitem\n",
    "# representar e realizar operações entre datas e horas.\n",
    "from datetime import datetime\n",
    "\n",
    "# a função today da classe datetime retorna a data e hora do momento em que foi executada\n",
    "datetime.today()"
   ]
  },
  {
   "cell_type": "code",
   "execution_count": 12,
   "metadata": {},
   "outputs": [
    {
     "data": {
      "text/plain": [
       "datetime.date(2018, 11, 20)"
      ]
     },
     "execution_count": 12,
     "metadata": {},
     "output_type": "execute_result"
    }
   ],
   "source": [
    "\"\"\"\n",
    "10. Escreva um código que retorna um objeto date\n",
    "somente com a data atual.\n",
    "\"\"\"\n",
    "from datetime import date\n",
    "\n",
    "# a função today da classe date retorna a data do momento em que foi executada\n",
    "date.today()"
   ]
  },
  {
   "cell_type": "code",
   "execution_count": 13,
   "metadata": {},
   "outputs": [
    {
     "data": {
      "text/plain": [
       "datetime.time(22, 45, 14, 937054)"
      ]
     },
     "execution_count": 13,
     "metadata": {},
     "output_type": "execute_result"
    }
   ],
   "source": [
    "\"\"\"\n",
    "11. Escreva um código que retorna um objeto time\n",
    "somente com a hora atual.\n",
    "\"\"\"\n",
    "from datetime import datetime\n",
    "\n",
    "# a função time de um objeto datetime um objeto time contendo a data e hora\n",
    "datetime.today().time()"
   ]
  },
  {
   "cell_type": "code",
   "execution_count": 14,
   "metadata": {},
   "outputs": [
    {
     "data": {
      "text/plain": [
       "'20/11/2018 22:45:14'"
      ]
     },
     "execution_count": 14,
     "metadata": {},
     "output_type": "execute_result"
    }
   ],
   "source": [
    "\"\"\"\n",
    "12. Escreva um código que retorna a data e hora do sistema\n",
    "e imprime no formato brasileiro.\n",
    "\n",
    "https://docs.python.org/3.6/library/datetime.html#strftime-strptime-behavior\n",
    "\"\"\"\n",
    "from datetime import datetime\n",
    "hoje = datetime.today()\n",
    "# a função strftime da classe datetime transforma um objeto datetime em uma\n",
    "# string com o formato defindo por diretivas %?. Cada diretiva representa uma\n",
    "# parte da data e hora.\n",
    "datetime.strftime(hoje,'%d/%m/%Y %H:%M:%S')"
   ]
  },
  {
   "cell_type": "code",
   "execution_count": 15,
   "metadata": {},
   "outputs": [
    {
     "data": {
      "text/plain": [
       "datetime.datetime(2017, 11, 5, 16, 41, 30)"
      ]
     },
     "execution_count": 15,
     "metadata": {},
     "output_type": "execute_result"
    }
   ],
   "source": [
    "\"\"\"\n",
    "13. Escreva um código que transforma uma string com data e hora \n",
    "no formato brasileiro para um objeto datetime.\n",
    "\n",
    "https://docs.python.org/3.6/library/datetime.html#strftime-strptime-behavior\n",
    "\"\"\"\n",
    "from datetime import datetime\n",
    "# essa operação é o inverso da anterior\n",
    "data = datetime.strptime('05/11/2017 16:41:30','%d/%m/%Y %H:%M:%S')\n",
    "data"
   ]
  },
  {
   "cell_type": "code",
   "execution_count": 16,
   "metadata": {},
   "outputs": [
    {
     "name": "stdout",
     "output_type": "stream",
     "text": [
      "Tipo: <class 'datetime.timedelta'>\n"
     ]
    },
    {
     "data": {
      "text/plain": [
       "380"
      ]
     },
     "execution_count": 16,
     "metadata": {},
     "output_type": "execute_result"
    }
   ],
   "source": [
    "\"\"\"\n",
    "14. Calcule o número de dias entre duas datas\n",
    "\"\"\"\n",
    "from datetime import datetime, timedelta\n",
    "\n",
    "data = datetime.strptime('05/11/2017 16:41:30','%d/%m/%Y %H:%M:%S')\n",
    "hoje = datetime.today()\n",
    "\n",
    "#quando fazemos uma subtração entre datas é criado um objeto\n",
    "#timedelta que possui diversas funções interessantes\n",
    "diferenca = hoje - data\n",
    "print('Tipo:', type(diferenca))\n",
    "\n",
    "diferenca.days"
   ]
  },
  {
   "cell_type": "code",
   "execution_count": 17,
   "metadata": {},
   "outputs": [
    {
     "data": {
      "text/plain": [
       "datetime.datetime(2018, 11, 18, 22, 45, 14, 975950)"
      ]
     },
     "execution_count": 17,
     "metadata": {},
     "output_type": "execute_result"
    }
   ],
   "source": [
    "\"\"\"\n",
    "15. Subtraia 2 dias da data de hoje\n",
    "\"\"\"\n",
    "from datetime import datetime, timedelta\n",
    "\n",
    "# utilizando o timedelta é possível fazer operações com datas\n",
    "# tais como adicionar ou subtrair dias, meses, anos, etc...\n",
    "hoje = datetime.today()\n",
    "hoje - timedelta(days=2)"
   ]
  },
  {
   "cell_type": "code",
   "execution_count": 18,
   "metadata": {},
   "outputs": [
    {
     "name": "stdout",
     "output_type": "stream",
     "text": [
      "Um\n",
      "Um Teste\n",
      "Um Teste\n"
     ]
    }
   ],
   "source": [
    "\"\"\"\n",
    "16. Crie uma função que recebe 2 parâmetros \"a\" e \"b\", o \n",
    "primeiro é obrigatório, o segundo é opcional, mas a função \n",
    "define um valor padrão para ele. Ambos devem ser string. \n",
    "A função deverá concatenar os valores e retornar o valor concatenado.\n",
    "\"\"\"\n",
    "\n",
    "# funções podem ter diversos parâmetros e cada parâmetro poderá ter \n",
    "# um valor padrão associado. Se um parâmetro com valor padrão não\n",
    "# for passado na chamada da função, o valor padrão é assumido \n",
    "# automaticamente. Os parâmetros sem valor padrão definido são \n",
    "# obrigatórios. Se chamarmos a função abaixo sem parâmetros\n",
    "# ocorrerá um erro.\n",
    "def concatenar(a, b=''):\n",
    "    return (a + ' ' + b).strip()\n",
    "\n",
    "print(concatenar('Um'))\n",
    "print(concatenar('Um', 'Teste'))\n",
    "print(concatenar(b='Teste', a='Um'))"
   ]
  }
 ],
 "metadata": {
  "kernelspec": {
   "display_name": "Python 3",
   "language": "python",
   "name": "python3"
  },
  "language_info": {
   "codemirror_mode": {
    "name": "ipython",
    "version": 3
   },
   "file_extension": ".py",
   "mimetype": "text/x-python",
   "name": "python",
   "nbconvert_exporter": "python",
   "pygments_lexer": "ipython3",
   "version": "3.6.6"
  }
 },
 "nbformat": 4,
 "nbformat_minor": 2
}
