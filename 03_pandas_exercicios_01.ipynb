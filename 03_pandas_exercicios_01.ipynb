{
 "cells": [
  {
   "cell_type": "markdown",
   "metadata": {},
   "source": [
    "# 03 01 Exercícios Pandas\n",
    "---"
   ]
  },
  {
   "cell_type": "code",
   "execution_count": 1,
   "metadata": {},
   "outputs": [],
   "source": [
    "# faça seus imports aqui \n",
    "import pandas as pd"
   ]
  },
  {
   "cell_type": "markdown",
   "metadata": {},
   "source": [
    "## EX01\n",
    "\n",
    "Criação e métodos de séries."
   ]
  },
  {
   "cell_type": "code",
   "execution_count": 2,
   "metadata": {},
   "outputs": [],
   "source": [
    "temperaturas = [15.4, 18.0, 22.5, 20.0, 20.3, 25.0]"
   ]
  },
  {
   "cell_type": "markdown",
   "metadata": {},
   "source": [
    "__A.__ Crie uma série com os dados da lista fornecida. Utilize pd.Series e atribua a serie à variável s_temperaturas"
   ]
  },
  {
   "cell_type": "code",
   "execution_count": 3,
   "metadata": {},
   "outputs": [],
   "source": []
  },
  {
   "cell_type": "markdown",
   "metadata": {},
   "source": [
    "__B.__ Imprima o tipo do objeto s_temperaturas"
   ]
  },
  {
   "cell_type": "code",
   "execution_count": 4,
   "metadata": {},
   "outputs": [
    {
     "data": {
      "text/plain": [
       "pandas.core.series.Series"
      ]
     },
     "execution_count": 4,
     "metadata": {},
     "output_type": "execute_result"
    }
   ],
   "source": []
  },
  {
   "cell_type": "markdown",
   "metadata": {},
   "source": [
    "__C.__ Imprima o objeto s_temperaturas"
   ]
  },
  {
   "cell_type": "code",
   "execution_count": 6,
   "metadata": {},
   "outputs": [
    {
     "data": {
      "text/plain": [
       "0    15.4\n",
       "1    18.0\n",
       "2    22.5\n",
       "3    20.0\n",
       "4    20.3\n",
       "5    25.0\n",
       "dtype: float64"
      ]
     },
     "execution_count": 6,
     "metadata": {},
     "output_type": "execute_result"
    }
   ],
   "source": []
  },
  {
   "cell_type": "markdown",
   "metadata": {},
   "source": [
    "__D.__ Imprima o numéro de linhas do objeto"
   ]
  },
  {
   "cell_type": "code",
   "execution_count": 7,
   "metadata": {},
   "outputs": [
    {
     "data": {
      "text/plain": [
       "(6,)"
      ]
     },
     "execution_count": 7,
     "metadata": {},
     "output_type": "execute_result"
    }
   ],
   "source": []
  },
  {
   "cell_type": "markdown",
   "metadata": {},
   "source": [
    "__E.__ imprima as 2 primeiras linhas"
   ]
  },
  {
   "cell_type": "code",
   "execution_count": 8,
   "metadata": {
    "scrolled": true
   },
   "outputs": [
    {
     "data": {
      "text/plain": [
       "0    15.4\n",
       "1    18.0\n",
       "dtype: float64"
      ]
     },
     "execution_count": 8,
     "metadata": {},
     "output_type": "execute_result"
    }
   ],
   "source": []
  },
  {
   "cell_type": "markdown",
   "metadata": {},
   "source": [
    "__F__. imprima as 2 últimas linhas"
   ]
  },
  {
   "cell_type": "code",
   "execution_count": 9,
   "metadata": {},
   "outputs": [
    {
     "data": {
      "text/plain": [
       "4    20.3\n",
       "5    25.0\n",
       "dtype: float64"
      ]
     },
     "execution_count": 9,
     "metadata": {},
     "output_type": "execute_result"
    }
   ],
   "source": []
  },
  {
   "cell_type": "markdown",
   "metadata": {},
   "source": [
    "__G__. imprima o maior valor"
   ]
  },
  {
   "cell_type": "code",
   "execution_count": 10,
   "metadata": {
    "scrolled": true
   },
   "outputs": [
    {
     "data": {
      "text/plain": [
       "25.0"
      ]
     },
     "execution_count": 10,
     "metadata": {},
     "output_type": "execute_result"
    }
   ],
   "source": []
  },
  {
   "cell_type": "markdown",
   "metadata": {},
   "source": [
    "__H__. imprima o menor valor"
   ]
  },
  {
   "cell_type": "code",
   "execution_count": 11,
   "metadata": {},
   "outputs": [
    {
     "data": {
      "text/plain": [
       "15.4"
      ]
     },
     "execution_count": 11,
     "metadata": {},
     "output_type": "execute_result"
    }
   ],
   "source": []
  },
  {
   "cell_type": "markdown",
   "metadata": {},
   "source": [
    "__J__. utilize o método describe para visualizar estatísticas básicas da série"
   ]
  },
  {
   "cell_type": "code",
   "execution_count": 12,
   "metadata": {},
   "outputs": [
    {
     "data": {
      "text/plain": [
       "count     6.0000\n",
       "mean     20.2000\n",
       "std       3.3544\n",
       "min      15.4000\n",
       "25%      18.5000\n",
       "50%      20.1500\n",
       "75%      21.9500\n",
       "max      25.0000\n",
       "dtype: float64"
      ]
     },
     "execution_count": 12,
     "metadata": {},
     "output_type": "execute_result"
    }
   ],
   "source": []
  },
  {
   "cell_type": "markdown",
   "metadata": {},
   "source": [
    "## EX02\n",
    "\n",
    "Filtros e expressões em séries."
   ]
  },
  {
   "cell_type": "markdown",
   "metadata": {},
   "source": [
    "__A.__ Crie uma série com as variáveis temperatura e indice definidas abaixo"
   ]
  },
  {
   "cell_type": "code",
   "execution_count": 14,
   "metadata": {
    "scrolled": true
   },
   "outputs": [
    {
     "data": {
      "text/plain": [
       "2017-05-03    15.4\n",
       "2017-05-04    18.0\n",
       "2017-05-04    22.5\n",
       "2017-05-05    20.0\n",
       "2017-05-06    20.3\n",
       "2017-05-07    25.0\n",
       "dtype: float64"
      ]
     },
     "execution_count": 14,
     "metadata": {},
     "output_type": "execute_result"
    }
   ],
   "source": [
    "temperaturas = [15.4, 18.0, 22.5, 20.0, 20.3, 25.0]\n",
    "indice = pd.to_datetime(['2017-05-03','2017-05-04','2017-05-04','2017-05-05','2017-05-06','2017-05-07'])\n",
    "\n",
    "s_temperaturas = "
   ]
  },
  {
   "cell_type": "markdown",
   "metadata": {},
   "source": [
    "__B.__ Filtre os registros pelo índice 2017-05-04"
   ]
  },
  {
   "cell_type": "code",
   "execution_count": 15,
   "metadata": {
    "scrolled": false
   },
   "outputs": [
    {
     "data": {
      "text/plain": [
       "2017-05-04    18.0\n",
       "2017-05-04    22.5\n",
       "dtype: float64"
      ]
     },
     "execution_count": 15,
     "metadata": {},
     "output_type": "execute_result"
    }
   ],
   "source": []
  },
  {
   "cell_type": "markdown",
   "metadata": {},
   "source": [
    "__C.__ Filtre os registros pelo intervalo 2017-05-04 a 2017-05-06"
   ]
  },
  {
   "cell_type": "code",
   "execution_count": 16,
   "metadata": {
    "scrolled": false
   },
   "outputs": [
    {
     "data": {
      "text/plain": [
       "2017-05-04    18.0\n",
       "2017-05-04    22.5\n",
       "2017-05-05    20.0\n",
       "2017-05-06    20.3\n",
       "dtype: float64"
      ]
     },
     "execution_count": 16,
     "metadata": {},
     "output_type": "execute_result"
    }
   ],
   "source": []
  },
  {
   "cell_type": "markdown",
   "metadata": {},
   "source": [
    "__D.__ Filtre os registros das posições 1 a 3"
   ]
  },
  {
   "cell_type": "code",
   "execution_count": 17,
   "metadata": {
    "scrolled": true
   },
   "outputs": [
    {
     "data": {
      "text/plain": [
       "2017-05-03    15.4\n",
       "2017-05-04    18.0\n",
       "2017-05-04    22.5\n",
       "dtype: float64"
      ]
     },
     "execution_count": 17,
     "metadata": {},
     "output_type": "execute_result"
    }
   ],
   "source": []
  },
  {
   "cell_type": "markdown",
   "metadata": {},
   "source": [
    "__E.__ Filtre os registros com temperatura maior que 20"
   ]
  },
  {
   "cell_type": "code",
   "execution_count": 18,
   "metadata": {
    "scrolled": false
   },
   "outputs": [
    {
     "data": {
      "text/plain": [
       "2017-05-04    22.5\n",
       "2017-05-06    20.3\n",
       "2017-05-07    25.0\n",
       "dtype: float64"
      ]
     },
     "execution_count": 18,
     "metadata": {},
     "output_type": "execute_result"
    }
   ],
   "source": []
  },
  {
   "cell_type": "markdown",
   "metadata": {},
   "source": [
    "## EX03\n",
    "\n",
    "Criação e características de DataFrames."
   ]
  },
  {
   "cell_type": "markdown",
   "metadata": {},
   "source": [
    "__A.__ Crie um dataframe utilizando a lista de tuplas abaixo."
   ]
  },
  {
   "cell_type": "code",
   "execution_count": 19,
   "metadata": {
    "scrolled": false
   },
   "outputs": [
    {
     "data": {
      "text/html": [
       "<div>\n",
       "<style scoped>\n",
       "    .dataframe tbody tr th:only-of-type {\n",
       "        vertical-align: middle;\n",
       "    }\n",
       "\n",
       "    .dataframe tbody tr th {\n",
       "        vertical-align: top;\n",
       "    }\n",
       "\n",
       "    .dataframe thead th {\n",
       "        text-align: right;\n",
       "    }\n",
       "</style>\n",
       "<table border=\"1\" class=\"dataframe\">\n",
       "  <thead>\n",
       "    <tr style=\"text-align: right;\">\n",
       "      <th></th>\n",
       "      <th>Espécie</th>\n",
       "      <th>Idade</th>\n",
       "      <th>Visitas</th>\n",
       "      <th>Prioridade</th>\n",
       "    </tr>\n",
       "  </thead>\n",
       "  <tbody>\n",
       "    <tr>\n",
       "      <th>0</th>\n",
       "      <td>Gato</td>\n",
       "      <td>6.0</td>\n",
       "      <td>12</td>\n",
       "      <td>Sim</td>\n",
       "    </tr>\n",
       "    <tr>\n",
       "      <th>1</th>\n",
       "      <td>Gato</td>\n",
       "      <td>3.0</td>\n",
       "      <td>23</td>\n",
       "      <td>Sim</td>\n",
       "    </tr>\n",
       "    <tr>\n",
       "      <th>2</th>\n",
       "      <td>Cachorro</td>\n",
       "      <td>10.0</td>\n",
       "      <td>14</td>\n",
       "      <td>Sim</td>\n",
       "    </tr>\n",
       "    <tr>\n",
       "      <th>3</th>\n",
       "      <td>Ramster</td>\n",
       "      <td>4.0</td>\n",
       "      <td>5</td>\n",
       "      <td>Não</td>\n",
       "    </tr>\n",
       "    <tr>\n",
       "      <th>4</th>\n",
       "      <td>Tartaruga</td>\n",
       "      <td>10.0</td>\n",
       "      <td>11</td>\n",
       "      <td>Sim</td>\n",
       "    </tr>\n",
       "  </tbody>\n",
       "</table>\n",
       "</div>"
      ],
      "text/plain": [
       "     Espécie  Idade  Visitas Prioridade\n",
       "0       Gato    6.0       12        Sim\n",
       "1       Gato    3.0       23        Sim\n",
       "2   Cachorro   10.0       14        Sim\n",
       "3    Ramster    4.0        5        Não\n",
       "4  Tartaruga   10.0       11        Sim"
      ]
     },
     "execution_count": 19,
     "metadata": {},
     "output_type": "execute_result"
    }
   ],
   "source": [
    "# utilize esta variável para o nome das colunas\n",
    "nomes_colunas = ['Espécie', 'Idade', 'Visitas', 'Prioridade']\n",
    "clinica_veterinaria = [\n",
    "    ('Gato', 6.0, 12, 'Sim'),\n",
    "    ('Gato', 3.0, 23, 'Sim'),\n",
    "    ('Cachorro', 10.0, 14, 'Sim'),\n",
    "    ('Ramster', 4.0, 5, 'Não'),\n",
    "    ('Tartaruga', 10.0, 11, 'Sim'),\n",
    "    ('Tartaruga', 3.0, 2, 'Sim'),\n",
    "    ('Gato', 12.0, 3, 'Não'),\n",
    "    ('Ramster', 11.0, 26, 'Não'),\n",
    "    ('Gato', 5.5, 29, 'Não'),\n",
    "    ('Cachorro', 2.0, 28, 'Sim'),\n",
    "    ('Coelho', 5.5, 1, 'Sim'),\n",
    "    ('Tartaruga', 4.0, 21, 'Não'),\n",
    "    ('Ramster', 1.0, 28, 'Sim'),\n",
    "    ('Tartaruga', 3.5, 18, 'Não'),\n",
    "    ('Ramster', 3.0, 20, 'Não'),\n",
    "    ('Gato', 2.0, 16, 'Não'),\n",
    "    ('Tartaruga', 10.5, 29, 'Não'),\n",
    "    ('Cachorro', 10.5, 26, 'Sim'),\n",
    "    ('Coelho', 10.0, 26, 'Sim'),\n",
    "    ('Ramster', 9.5, 2, 'Não')\n",
    "]\n",
    "\n",
    "# crie o dataframe e atribua à variável 'df_clinica_veterinaria'\n",
    "\n",
    "\n",
    "# exiba as primeiras 5 linhas\n"
   ]
  },
  {
   "cell_type": "markdown",
   "metadata": {},
   "source": [
    "__B.__ Crie uma nova coluna com o resultado do número de visitas dividido pela idade. O nome da colunas deve ser \"Visitas/Idade\""
   ]
  },
  {
   "cell_type": "code",
   "execution_count": 21,
   "metadata": {},
   "outputs": [
    {
     "data": {
      "text/html": [
       "<div>\n",
       "<style scoped>\n",
       "    .dataframe tbody tr th:only-of-type {\n",
       "        vertical-align: middle;\n",
       "    }\n",
       "\n",
       "    .dataframe tbody tr th {\n",
       "        vertical-align: top;\n",
       "    }\n",
       "\n",
       "    .dataframe thead th {\n",
       "        text-align: right;\n",
       "    }\n",
       "</style>\n",
       "<table border=\"1\" class=\"dataframe\">\n",
       "  <thead>\n",
       "    <tr style=\"text-align: right;\">\n",
       "      <th></th>\n",
       "      <th>Espécie</th>\n",
       "      <th>Idade</th>\n",
       "      <th>Visitas</th>\n",
       "      <th>Prioridade</th>\n",
       "      <th>Visitas/Idade</th>\n",
       "    </tr>\n",
       "  </thead>\n",
       "  <tbody>\n",
       "    <tr>\n",
       "      <th>0</th>\n",
       "      <td>Gato</td>\n",
       "      <td>6.0</td>\n",
       "      <td>12</td>\n",
       "      <td>Sim</td>\n",
       "      <td>2.000000</td>\n",
       "    </tr>\n",
       "    <tr>\n",
       "      <th>1</th>\n",
       "      <td>Gato</td>\n",
       "      <td>3.0</td>\n",
       "      <td>23</td>\n",
       "      <td>Sim</td>\n",
       "      <td>7.666667</td>\n",
       "    </tr>\n",
       "    <tr>\n",
       "      <th>2</th>\n",
       "      <td>Cachorro</td>\n",
       "      <td>10.0</td>\n",
       "      <td>14</td>\n",
       "      <td>Sim</td>\n",
       "      <td>1.400000</td>\n",
       "    </tr>\n",
       "    <tr>\n",
       "      <th>3</th>\n",
       "      <td>Ramster</td>\n",
       "      <td>4.0</td>\n",
       "      <td>5</td>\n",
       "      <td>Não</td>\n",
       "      <td>1.250000</td>\n",
       "    </tr>\n",
       "    <tr>\n",
       "      <th>4</th>\n",
       "      <td>Tartaruga</td>\n",
       "      <td>10.0</td>\n",
       "      <td>11</td>\n",
       "      <td>Sim</td>\n",
       "      <td>1.100000</td>\n",
       "    </tr>\n",
       "  </tbody>\n",
       "</table>\n",
       "</div>"
      ],
      "text/plain": [
       "     Espécie  Idade  Visitas Prioridade  Visitas/Idade\n",
       "0       Gato    6.0       12        Sim       2.000000\n",
       "1       Gato    3.0       23        Sim       7.666667\n",
       "2   Cachorro   10.0       14        Sim       1.400000\n",
       "3    Ramster    4.0        5        Não       1.250000\n",
       "4  Tartaruga   10.0       11        Sim       1.100000"
      ]
     },
     "execution_count": 21,
     "metadata": {},
     "output_type": "execute_result"
    }
   ],
   "source": []
  },
  {
   "cell_type": "markdown",
   "metadata": {},
   "source": [
    "__C.__ Ordene o Dataframe pela nova coluna \"Visitas/Idade\" em ordem decrescente"
   ]
  },
  {
   "cell_type": "code",
   "execution_count": 22,
   "metadata": {},
   "outputs": [
    {
     "data": {
      "text/html": [
       "<div>\n",
       "<style scoped>\n",
       "    .dataframe tbody tr th:only-of-type {\n",
       "        vertical-align: middle;\n",
       "    }\n",
       "\n",
       "    .dataframe tbody tr th {\n",
       "        vertical-align: top;\n",
       "    }\n",
       "\n",
       "    .dataframe thead th {\n",
       "        text-align: right;\n",
       "    }\n",
       "</style>\n",
       "<table border=\"1\" class=\"dataframe\">\n",
       "  <thead>\n",
       "    <tr style=\"text-align: right;\">\n",
       "      <th></th>\n",
       "      <th>Espécie</th>\n",
       "      <th>Idade</th>\n",
       "      <th>Visitas</th>\n",
       "      <th>Prioridade</th>\n",
       "      <th>Visitas/Idade</th>\n",
       "    </tr>\n",
       "  </thead>\n",
       "  <tbody>\n",
       "    <tr>\n",
       "      <th>12</th>\n",
       "      <td>Ramster</td>\n",
       "      <td>1.0</td>\n",
       "      <td>28</td>\n",
       "      <td>Sim</td>\n",
       "      <td>28.000000</td>\n",
       "    </tr>\n",
       "    <tr>\n",
       "      <th>9</th>\n",
       "      <td>Cachorro</td>\n",
       "      <td>2.0</td>\n",
       "      <td>28</td>\n",
       "      <td>Sim</td>\n",
       "      <td>14.000000</td>\n",
       "    </tr>\n",
       "    <tr>\n",
       "      <th>15</th>\n",
       "      <td>Gato</td>\n",
       "      <td>2.0</td>\n",
       "      <td>16</td>\n",
       "      <td>Não</td>\n",
       "      <td>8.000000</td>\n",
       "    </tr>\n",
       "    <tr>\n",
       "      <th>1</th>\n",
       "      <td>Gato</td>\n",
       "      <td>3.0</td>\n",
       "      <td>23</td>\n",
       "      <td>Sim</td>\n",
       "      <td>7.666667</td>\n",
       "    </tr>\n",
       "    <tr>\n",
       "      <th>14</th>\n",
       "      <td>Ramster</td>\n",
       "      <td>3.0</td>\n",
       "      <td>20</td>\n",
       "      <td>Não</td>\n",
       "      <td>6.666667</td>\n",
       "    </tr>\n",
       "  </tbody>\n",
       "</table>\n",
       "</div>"
      ],
      "text/plain": [
       "     Espécie  Idade  Visitas Prioridade  Visitas/Idade\n",
       "12   Ramster    1.0       28        Sim      28.000000\n",
       "9   Cachorro    2.0       28        Sim      14.000000\n",
       "15      Gato    2.0       16        Não       8.000000\n",
       "1       Gato    3.0       23        Sim       7.666667\n",
       "14   Ramster    3.0       20        Não       6.666667"
      ]
     },
     "execution_count": 22,
     "metadata": {},
     "output_type": "execute_result"
    }
   ],
   "source": []
  },
  {
   "cell_type": "markdown",
   "metadata": {},
   "source": [
    "__D.__ Selecione todos os registros com cachorros"
   ]
  },
  {
   "cell_type": "code",
   "execution_count": 23,
   "metadata": {},
   "outputs": [
    {
     "data": {
      "text/html": [
       "<div>\n",
       "<style scoped>\n",
       "    .dataframe tbody tr th:only-of-type {\n",
       "        vertical-align: middle;\n",
       "    }\n",
       "\n",
       "    .dataframe tbody tr th {\n",
       "        vertical-align: top;\n",
       "    }\n",
       "\n",
       "    .dataframe thead th {\n",
       "        text-align: right;\n",
       "    }\n",
       "</style>\n",
       "<table border=\"1\" class=\"dataframe\">\n",
       "  <thead>\n",
       "    <tr style=\"text-align: right;\">\n",
       "      <th></th>\n",
       "      <th>Espécie</th>\n",
       "      <th>Idade</th>\n",
       "      <th>Visitas</th>\n",
       "      <th>Prioridade</th>\n",
       "      <th>Visitas/Idade</th>\n",
       "    </tr>\n",
       "  </thead>\n",
       "  <tbody>\n",
       "    <tr>\n",
       "      <th>2</th>\n",
       "      <td>Cachorro</td>\n",
       "      <td>10.0</td>\n",
       "      <td>14</td>\n",
       "      <td>Sim</td>\n",
       "      <td>1.40000</td>\n",
       "    </tr>\n",
       "    <tr>\n",
       "      <th>9</th>\n",
       "      <td>Cachorro</td>\n",
       "      <td>2.0</td>\n",
       "      <td>28</td>\n",
       "      <td>Sim</td>\n",
       "      <td>14.00000</td>\n",
       "    </tr>\n",
       "    <tr>\n",
       "      <th>17</th>\n",
       "      <td>Cachorro</td>\n",
       "      <td>10.5</td>\n",
       "      <td>26</td>\n",
       "      <td>Sim</td>\n",
       "      <td>2.47619</td>\n",
       "    </tr>\n",
       "  </tbody>\n",
       "</table>\n",
       "</div>"
      ],
      "text/plain": [
       "     Espécie  Idade  Visitas Prioridade  Visitas/Idade\n",
       "2   Cachorro   10.0       14        Sim        1.40000\n",
       "9   Cachorro    2.0       28        Sim       14.00000\n",
       "17  Cachorro   10.5       26        Sim        2.47619"
      ]
     },
     "execution_count": 23,
     "metadata": {},
     "output_type": "execute_result"
    }
   ],
   "source": []
  },
  {
   "cell_type": "markdown",
   "metadata": {},
   "source": [
    "__E.__ Selecione todos os registros com gatos com idade acima de 4 anos"
   ]
  },
  {
   "cell_type": "code",
   "execution_count": 24,
   "metadata": {
    "scrolled": false
   },
   "outputs": [
    {
     "data": {
      "text/html": [
       "<div>\n",
       "<style scoped>\n",
       "    .dataframe tbody tr th:only-of-type {\n",
       "        vertical-align: middle;\n",
       "    }\n",
       "\n",
       "    .dataframe tbody tr th {\n",
       "        vertical-align: top;\n",
       "    }\n",
       "\n",
       "    .dataframe thead th {\n",
       "        text-align: right;\n",
       "    }\n",
       "</style>\n",
       "<table border=\"1\" class=\"dataframe\">\n",
       "  <thead>\n",
       "    <tr style=\"text-align: right;\">\n",
       "      <th></th>\n",
       "      <th>Espécie</th>\n",
       "      <th>Idade</th>\n",
       "      <th>Visitas</th>\n",
       "      <th>Prioridade</th>\n",
       "      <th>Visitas/Idade</th>\n",
       "    </tr>\n",
       "  </thead>\n",
       "  <tbody>\n",
       "    <tr>\n",
       "      <th>0</th>\n",
       "      <td>Gato</td>\n",
       "      <td>6.0</td>\n",
       "      <td>12</td>\n",
       "      <td>Sim</td>\n",
       "      <td>2.000000</td>\n",
       "    </tr>\n",
       "    <tr>\n",
       "      <th>6</th>\n",
       "      <td>Gato</td>\n",
       "      <td>12.0</td>\n",
       "      <td>3</td>\n",
       "      <td>Não</td>\n",
       "      <td>0.250000</td>\n",
       "    </tr>\n",
       "    <tr>\n",
       "      <th>8</th>\n",
       "      <td>Gato</td>\n",
       "      <td>5.5</td>\n",
       "      <td>29</td>\n",
       "      <td>Não</td>\n",
       "      <td>5.272727</td>\n",
       "    </tr>\n",
       "  </tbody>\n",
       "</table>\n",
       "</div>"
      ],
      "text/plain": [
       "  Espécie  Idade  Visitas Prioridade  Visitas/Idade\n",
       "0    Gato    6.0       12        Sim       2.000000\n",
       "6    Gato   12.0        3        Não       0.250000\n",
       "8    Gato    5.5       29        Não       5.272727"
      ]
     },
     "execution_count": 24,
     "metadata": {},
     "output_type": "execute_result"
    }
   ],
   "source": []
  },
  {
   "cell_type": "markdown",
   "metadata": {},
   "source": [
    "__F.__ Qual o total de visitas registradas na clínica?"
   ]
  },
  {
   "cell_type": "code",
   "execution_count": 25,
   "metadata": {},
   "outputs": [
    {
     "data": {
      "text/plain": [
       "340"
      ]
     },
     "execution_count": 25,
     "metadata": {},
     "output_type": "execute_result"
    }
   ],
   "source": []
  },
  {
   "cell_type": "markdown",
   "metadata": {
    "collapsed": true
   },
   "source": [
    "__G.__ Existe algum Ramster com prioridade?"
   ]
  },
  {
   "cell_type": "code",
   "execution_count": 26,
   "metadata": {},
   "outputs": [
    {
     "data": {
      "text/html": [
       "<div>\n",
       "<style scoped>\n",
       "    .dataframe tbody tr th:only-of-type {\n",
       "        vertical-align: middle;\n",
       "    }\n",
       "\n",
       "    .dataframe tbody tr th {\n",
       "        vertical-align: top;\n",
       "    }\n",
       "\n",
       "    .dataframe thead th {\n",
       "        text-align: right;\n",
       "    }\n",
       "</style>\n",
       "<table border=\"1\" class=\"dataframe\">\n",
       "  <thead>\n",
       "    <tr style=\"text-align: right;\">\n",
       "      <th></th>\n",
       "      <th>Espécie</th>\n",
       "      <th>Idade</th>\n",
       "      <th>Visitas</th>\n",
       "      <th>Prioridade</th>\n",
       "      <th>Visitas/Idade</th>\n",
       "    </tr>\n",
       "  </thead>\n",
       "  <tbody>\n",
       "    <tr>\n",
       "      <th>12</th>\n",
       "      <td>Ramster</td>\n",
       "      <td>1.0</td>\n",
       "      <td>28</td>\n",
       "      <td>Sim</td>\n",
       "      <td>28.0</td>\n",
       "    </tr>\n",
       "  </tbody>\n",
       "</table>\n",
       "</div>"
      ],
      "text/plain": [
       "    Espécie  Idade  Visitas Prioridade  Visitas/Idade\n",
       "12  Ramster    1.0       28        Sim           28.0"
      ]
     },
     "execution_count": 26,
     "metadata": {},
     "output_type": "execute_result"
    }
   ],
   "source": []
  },
  {
   "cell_type": "markdown",
   "metadata": {},
   "source": [
    "__H.__ Qual a maior idade por espécie?"
   ]
  },
  {
   "cell_type": "code",
   "execution_count": 27,
   "metadata": {
    "scrolled": false
   },
   "outputs": [
    {
     "data": {
      "text/plain": [
       "Espécie\n",
       "Cachorro     10.5\n",
       "Coelho       10.0\n",
       "Gato         12.0\n",
       "Ramster      11.0\n",
       "Tartaruga    10.5\n",
       "Name: Idade, dtype: float64"
      ]
     },
     "execution_count": 27,
     "metadata": {},
     "output_type": "execute_result"
    }
   ],
   "source": []
  },
  {
   "cell_type": "markdown",
   "metadata": {},
   "source": [
    "__I.__ Qual a média de idade por espécie?"
   ]
  },
  {
   "cell_type": "code",
   "execution_count": 28,
   "metadata": {
    "scrolled": false
   },
   "outputs": [
    {
     "data": {
      "text/plain": [
       "Espécie\n",
       "Cachorro     7.50\n",
       "Coelho       7.75\n",
       "Gato         5.70\n",
       "Ramster      5.70\n",
       "Tartaruga    6.20\n",
       "Name: Idade, dtype: float64"
      ]
     },
     "execution_count": 28,
     "metadata": {},
     "output_type": "execute_result"
    }
   ],
   "source": []
  },
  {
   "cell_type": "code",
   "execution_count": 30,
   "metadata": {},
   "outputs": [
    {
     "data": {
      "text/plain": [
       "[('Coelho', 8.5, 29, 'Sim'),\n",
       " ('Tartaruga', 6.5, 26, 'Não'),\n",
       " ('Coelho', 8.5, 25, 'Não'),\n",
       " ('Coelho', 3.0, 21, 'Sim'),\n",
       " ('Gato', 1.0, 24, 'Não'),\n",
       " ('Coelho', 9.5, 6, 'Não'),\n",
       " ('Tartaruga', 7.5, 29, 'Sim'),\n",
       " ('Coelho', 5.0, 2, 'Sim'),\n",
       " ('Tartaruga', 10.5, 2, 'Não'),\n",
       " ('Tartaruga', 9.5, 18, 'Sim'),\n",
       " ('Tartaruga', 10.5, 16, 'Sim'),\n",
       " ('Tartaruga', 6.5, 11, 'Sim'),\n",
       " ('Coelho', 9.0, 2, 'Não'),\n",
       " ('Coelho', 5.0, 27, 'Não'),\n",
       " ('Gato', 12.5, 27, 'Não'),\n",
       " ('Gato', 11.5, 6, 'Não'),\n",
       " ('Tartaruga', 7.5, 25, 'Não'),\n",
       " ('Gato', 3.0, 14, 'Não'),\n",
       " ('Gato', 3.5, 17, 'Não'),\n",
       " ('Tartaruga', 3.0, 25, 'Não')]"
      ]
     },
     "execution_count": 30,
     "metadata": {},
     "output_type": "execute_result"
    }
   ],
   "source": [
    "# Gerador de clientes para clínica veterinária\n",
    "\n",
    "sorteio_animais = ['Gato', 'Cachorro', 'Coelho', 'Ramster', 'Tartaruga']\n",
    "sorteio_idades = list(np.arange(0.5, 13.0, step=0.5))\n",
    "sorteio_visitas = list(np.arange(1, 30))\n",
    "sorteio_prioridade = ['Sim', 'Não']\n",
    "\n",
    "clinica_veterinaria = [(np.random.choice(sorteio_animais),\n",
    "                        np.random.choice(sorteio_idades),\n",
    "                        np.random.choice(sorteio_visitas),\n",
    "                        np.random.choice(sorteio_prioridade),\n",
    "                        ) for i in range(20)\n",
    "                        ]\n",
    "clinica_veterinaria"
   ]
  },
  {
   "cell_type": "markdown",
   "metadata": {
    "collapsed": true
   },
   "source": [
    "___\n",
    "__Material produzido para o curso__:\n",
    "* Introdução à Análise de Dados com Python\n",
    "\n",
    "__Autor__:\n",
    "* Fernando Sola Pereira\n",
    "\n",
    "__Revisão__:\n",
    "* 1.1"
   ]
  }
 ],
 "metadata": {
  "kernelspec": {
   "display_name": "Python 3",
   "language": "python",
   "name": "python3"
  },
  "language_info": {
   "codemirror_mode": {
    "name": "ipython",
    "version": 3
   },
   "file_extension": ".py",
   "mimetype": "text/x-python",
   "name": "python",
   "nbconvert_exporter": "python",
   "pygments_lexer": "ipython3",
   "version": "3.6.6"
  }
 },
 "nbformat": 4,
 "nbformat_minor": 2
}
